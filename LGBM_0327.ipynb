{
 "cells": [
  {
   "cell_type": "code",
   "execution_count": 1,
   "id": "0764fc42",
   "metadata": {
    "execution": {
     "iopub.execute_input": "2024-04-19T06:15:10.711259Z",
     "iopub.status.busy": "2024-04-19T06:15:10.710861Z",
     "iopub.status.idle": "2024-04-19T06:15:14.203219Z",
     "shell.execute_reply": "2024-04-19T06:15:14.202484Z"
    },
    "papermill": {
     "duration": 3.507919,
     "end_time": "2024-04-19T06:15:14.205807",
     "exception": false,
     "start_time": "2024-04-19T06:15:10.697888",
     "status": "completed"
    },
    "tags": []
   },
   "outputs": [
    {
     "data": {
      "text/html": [
       "<style type='text/css'>\n",
       ".datatable table.frame { margin-bottom: 0; }\n",
       ".datatable table.frame thead { border-bottom: none; }\n",
       ".datatable table.frame tr.coltypes td {  color: #FFFFFF;  line-height: 6px;  padding: 0 0.5em;}\n",
       ".datatable .bool    { background: #DDDD99; }\n",
       ".datatable .object  { background: #565656; }\n",
       ".datatable .int     { background: #5D9E5D; }\n",
       ".datatable .float   { background: #4040CC; }\n",
       ".datatable .str     { background: #CC4040; }\n",
       ".datatable .time    { background: #40CC40; }\n",
       ".datatable .row_index {  background: var(--jp-border-color3);  border-right: 1px solid var(--jp-border-color0);  color: var(--jp-ui-font-color3);  font-size: 9px;}\n",
       ".datatable .frame tbody td { text-align: left; }\n",
       ".datatable .frame tr.coltypes .row_index {  background: var(--jp-border-color0);}\n",
       ".datatable th:nth-child(2) { padding-left: 12px; }\n",
       ".datatable .hellipsis {  color: var(--jp-cell-editor-border-color);}\n",
       ".datatable .vellipsis {  background: var(--jp-layout-color0);  color: var(--jp-cell-editor-border-color);}\n",
       ".datatable .na {  color: var(--jp-cell-editor-border-color);  font-size: 80%;}\n",
       ".datatable .sp {  opacity: 0.25;}\n",
       ".datatable .footer { font-size: 9px; }\n",
       ".datatable .frame_dimensions {  background: var(--jp-border-color3);  border-top: 1px solid var(--jp-border-color0);  color: var(--jp-ui-font-color3);  display: inline-block;  opacity: 0.6;  padding: 1px 10px 1px 5px;}\n",
       "</style>\n"
      ],
      "text/plain": [
       "<IPython.core.display.HTML object>"
      ]
     },
     "metadata": {},
     "output_type": "display_data"
    }
   ],
   "source": [
    "# imports\n",
    "%matplotlib inline\n",
    "import pandas as pd\n",
    "from lightgbm import LGBMRegressor\n",
    "import matplotlib.pyplot as plt\n",
    "import jpx_tokyo_market_prediction\n",
    "import numpy as np"
   ]
  },
  {
   "cell_type": "code",
   "execution_count": 2,
   "id": "ecb4176e",
   "metadata": {
    "execution": {
     "iopub.execute_input": "2024-04-19T06:15:14.232787Z",
     "iopub.status.busy": "2024-04-19T06:15:14.232468Z",
     "iopub.status.idle": "2024-04-19T06:15:14.248635Z",
     "shell.execute_reply": "2024-04-19T06:15:14.247855Z"
    },
    "papermill": {
     "duration": 0.031222,
     "end_time": "2024-04-19T06:15:14.250673",
     "exception": false,
     "start_time": "2024-04-19T06:15:14.219451",
     "status": "completed"
    },
    "tags": []
   },
   "outputs": [],
   "source": [
    "import os\n",
    "from decimal import ROUND_HALF_UP, Decimal\n",
    "from typing import Tuple\n",
    "\n",
    "import numpy as np\n",
    "import pandas as pd\n",
    "\n",
    "\"\"\" \n",
    "Methods for preprocessing the dataset \n",
    "\"\"\"\n",
    "\n",
    "\n",
    "def data_pipeline(dir_path: str) -> Tuple[pd.DataFrame, pd.DataFrame]:\n",
    "    \"\"\"Load data and merge datasets\n",
    "\n",
    "    Args:\n",
    "        dir_path (str): path to data dir\n",
    "\n",
    "    Returns:\n",
    "        Tuple[pd.DataFrame, pd.DataFrame]: Train/Test set\n",
    "    \"\"\"\n",
    "\n",
    "    train = pd.read_csv(os.path.join(dir_path, \"train_files/stock_prices.csv\"))\n",
    "    test = pd.read_csv(os.path.join(dir_path, \"supplemental_files/stock_prices.csv\"))\n",
    "    stock_list = pd.read_csv(os.path.join(dir_path, \"stock_list.csv\"))\n",
    "    target_stock_list = stock_list[stock_list[\"Universe0\"]]\n",
    "\n",
    "    train = train.drop([\"ExpectedDividend\", \"RowId\"], axis=1)\n",
    "    train = train.fillna(0)\n",
    "    test = test.drop([\"ExpectedDividend\", \"RowId\"], axis=1)\n",
    "    test = test.fillna(0)\n",
    "\n",
    "    # merge stock categories as additional features\n",
    "    sec_info = target_stock_list[[\"SecuritiesCode\", \"33SectorName\", \"17SectorName\"]]\n",
    "    train = pd.merge(train, sec_info, on=\"SecuritiesCode\")\n",
    "    train[\"33SectorName\"] = train[\"33SectorName\"].astype(\"category\")\n",
    "    train[\"17SectorName\"] = train[\"17SectorName\"].astype(\"category\")\n",
    "\n",
    "    # use supplemental stock prices as test set to evaluate performance of classifiers\n",
    "    test = pd.merge(test, sec_info, on=\"SecuritiesCode\")\n",
    "    test[\"33SectorName\"] = test[\"33SectorName\"].astype(\"category\")\n",
    "    test[\"17SectorName\"] = test[\"17SectorName\"].astype(\"category\")\n",
    "\n",
    "    train.update(train.groupby(\"SecuritiesCode\")[\"Target\"].ffill().fillna(0))\n",
    "    test.update(test.groupby(\"SecuritiesCode\")[\"Target\"].ffill().fillna(0))\n",
    "\n",
    "\n",
    "    train[\"SupervisionFlag\"] = train[\"SupervisionFlag\"].map({True: 1, False: 0})\n",
    "    test[\"SupervisionFlag\"] = test[\"SupervisionFlag\"].map({True: 1, False: 0})\n",
    "\n",
    "    # cut timeframe where not all targets are present\n",
    "    time_config = {\"train_split_date\": \"2020-12-23\"}\n",
    "    train = train[train.Date >= time_config[\"train_split_date\"]]\n",
    "\n",
    "    return train, test, sec_info"
   ]
  },
  {
   "cell_type": "code",
   "execution_count": 3,
   "id": "7cd7d97d",
   "metadata": {
    "execution": {
     "iopub.execute_input": "2024-04-19T06:15:14.275170Z",
     "iopub.status.busy": "2024-04-19T06:15:14.274936Z",
     "iopub.status.idle": "2024-04-19T06:15:24.721577Z",
     "shell.execute_reply": "2024-04-19T06:15:24.720659Z"
    },
    "papermill": {
     "duration": 10.46183,
     "end_time": "2024-04-19T06:15:24.724227",
     "exception": false,
     "start_time": "2024-04-19T06:15:14.262397",
     "status": "completed"
    },
    "tags": []
   },
   "outputs": [],
   "source": [
    "train, test, sec_info = data_pipeline(\"../input/jpx-tokyo-stock-exchange-prediction\") \n",
    "train = pd.concat([train, test])"
   ]
  },
  {
   "cell_type": "code",
   "execution_count": 4,
   "id": "0bb1acd8",
   "metadata": {
    "execution": {
     "iopub.execute_input": "2024-04-19T06:15:24.749367Z",
     "iopub.status.busy": "2024-04-19T06:15:24.749080Z",
     "iopub.status.idle": "2024-04-19T06:15:24.761964Z",
     "shell.execute_reply": "2024-04-19T06:15:24.761111Z"
    },
    "papermill": {
     "duration": 0.027776,
     "end_time": "2024-04-19T06:15:24.764002",
     "exception": false,
     "start_time": "2024-04-19T06:15:24.736226",
     "status": "completed"
    },
    "tags": []
   },
   "outputs": [],
   "source": [
    "import optuna\n",
    "import pandas as pd\n",
    "from lightgbm import LGBMRegressor\n",
    "from sklearn.metrics import mean_absolute_error, mean_squared_error, ndcg_score\n",
    "from sklearn.preprocessing import LabelEncoder\n",
    "# from utils import GroupTimeSeriesSplit, calc_spread_return_sharpe\n",
    "\n",
    "\n",
    "class LGBM():\n",
    "    def __init__(self, device=None, seed=42):\n",
    "        self.seed = seed\n",
    "        self._best_found_params = {\n",
    "            \"num_leaves\": 17,\n",
    "            \"learning_rate\": 0.02,\n",
    "            \"n_estimators\": 1000,\n",
    "            \"max_depth\": -1,\n",
    "        }\n",
    "        self.models = {}\n",
    "\n",
    "    def train(self, train: pd.DataFrame, use_params=False):\n",
    "        for name, group in train.groupby(\"33SectorName\"):\n",
    "            y = group[\"Target\"].to_numpy()\n",
    "            X = group.drop([\"Target\"], axis=1)\n",
    "            X = X.drop([\"Date\", \"SecuritiesCode\"], axis=1)\n",
    "            model = LGBMRegressor(**self._best_found_params)\n",
    "            model.fit(X, y, verbose=False)\n",
    "            self.models[name] = model\n",
    "\n",
    "    def predict(self, test: pd.DataFrame):\n",
    "        y_preds = []\n",
    "        for name, group in test.groupby(\"33SectorName\"):\n",
    "            sec_codes = group[\"SecuritiesCode\"]\n",
    "            X_test = group.drop([\"Date\", \"SecuritiesCode\"], axis=1)\n",
    "            y_pred = self.models[name].predict(X_test)\n",
    "            y_preds.extend(list(zip(sec_codes, y_pred)))\n",
    "        df = pd.DataFrame(y_preds, columns=[\"codes\", \"pred\"])\n",
    "        return df.sort_values(\"codes\", ascending=True)[\"pred\"].values"
   ]
  },
  {
   "cell_type": "code",
   "execution_count": 5,
   "id": "8a1b9cb5",
   "metadata": {
    "execution": {
     "iopub.execute_input": "2024-04-19T06:15:24.787938Z",
     "iopub.status.busy": "2024-04-19T06:15:24.787555Z",
     "iopub.status.idle": "2024-04-19T06:15:55.318474Z",
     "shell.execute_reply": "2024-04-19T06:15:55.317610Z"
    },
    "papermill": {
     "duration": 30.545725,
     "end_time": "2024-04-19T06:15:55.321156",
     "exception": false,
     "start_time": "2024-04-19T06:15:24.775431",
     "status": "completed"
    },
    "tags": []
   },
   "outputs": [
    {
     "name": "stderr",
     "output_type": "stream",
     "text": [
      "/opt/conda/lib/python3.7/site-packages/lightgbm/sklearn.py:736: UserWarning: 'verbose' argument is deprecated and will be removed in a future release of LightGBM. Pass 'log_evaluation()' callback via 'callbacks' argument instead.\n",
      "  _log_warning(\"'verbose' argument is deprecated and will be removed in a future release of LightGBM. \"\n"
     ]
    }
   ],
   "source": [
    "import torch \n",
    "\n",
    "device = torch.device(\"cuda\" if torch.cuda.is_available() else \"cpu\")\n",
    "model = LGBM(device=device, seed=42)\n",
    "model.train(train.copy(), use_params=True)"
   ]
  },
  {
   "cell_type": "code",
   "execution_count": 6,
   "id": "6eb0062a",
   "metadata": {
    "execution": {
     "iopub.execute_input": "2024-04-19T06:15:55.347753Z",
     "iopub.status.busy": "2024-04-19T06:15:55.347006Z",
     "iopub.status.idle": "2024-04-19T06:15:55.351959Z",
     "shell.execute_reply": "2024-04-19T06:15:55.351069Z"
    },
    "papermill": {
     "duration": 0.020151,
     "end_time": "2024-04-19T06:15:55.353929",
     "exception": false,
     "start_time": "2024-04-19T06:15:55.333778",
     "status": "completed"
    },
    "tags": []
   },
   "outputs": [],
   "source": [
    "env = jpx_tokyo_market_prediction.make_env()\n",
    "iter_test = env.iter_test()"
   ]
  },
  {
   "cell_type": "code",
   "execution_count": 7,
   "id": "944f6991",
   "metadata": {
    "execution": {
     "iopub.execute_input": "2024-04-19T06:15:55.378437Z",
     "iopub.status.busy": "2024-04-19T06:15:55.377882Z",
     "iopub.status.idle": "2024-04-19T06:15:56.291296Z",
     "shell.execute_reply": "2024-04-19T06:15:56.290552Z"
    },
    "papermill": {
     "duration": 0.928404,
     "end_time": "2024-04-19T06:15:56.293798",
     "exception": false,
     "start_time": "2024-04-19T06:15:55.365394",
     "status": "completed"
    },
    "tags": []
   },
   "outputs": [
    {
     "name": "stdout",
     "output_type": "stream",
     "text": [
      "This version of the API is not optimized and should not be used to estimate the runtime of your code on the hidden test set.\n"
     ]
    }
   ],
   "source": [
    "# test loop\n",
    "for (df_test, options, financials, trades, secondary_prices, df_pred) in iter_test:\n",
    "    x_test = df_test.drop([\"ExpectedDividend\", \"RowId\"], axis=1)\n",
    "    x_test = x_test.fillna(0)\n",
    "\n",
    "    # merge stock categories as additional features\n",
    "    x_test = pd.merge(x_test, sec_info, on=\"SecuritiesCode\")\n",
    "    x_test[\"33SectorName\"] = x_test[\"33SectorName\"].astype(\"category\")\n",
    "    x_test[\"17SectorName\"] = x_test[\"17SectorName\"].astype(\"category\")\n",
    "\n",
    "    x_test[\"SupervisionFlag\"] = x_test[\"SupervisionFlag\"].map({True: 1, False: 0})\n",
    "    \n",
    "    y_pred = model.predict(x_test)\n",
    "    df_pred['Target'] = y_pred\n",
    "    df_pred = df_pred.sort_values(by = \"Target\", ascending = False)\n",
    "    df_pred['Rank'] = np.arange(len(df_pred.index))\n",
    "    df_pred = df_pred.sort_values(by = \"SecuritiesCode\", ascending = True)\n",
    "    df_pred.drop([\"Target\"], axis = 1)\n",
    "    submission = df_pred[[\"Date\", \"SecuritiesCode\", \"Rank\"]]    \n",
    "    env.predict(submission)"
   ]
  },
  {
   "cell_type": "code",
   "execution_count": null,
   "id": "6834d56b",
   "metadata": {
    "papermill": {
     "duration": 0.01201,
     "end_time": "2024-04-19T06:15:56.318547",
     "exception": false,
     "start_time": "2024-04-19T06:15:56.306537",
     "status": "completed"
    },
    "tags": []
   },
   "outputs": [],
   "source": []
  }
 ],
 "metadata": {
  "kaggle": {
   "accelerator": "gpu",
   "dataSources": [
    {
     "databundleVersionId": 3935619,
     "sourceId": 34349,
     "sourceType": "competition"
    }
   ],
   "dockerImageVersionId": 30192,
   "isGpuEnabled": true,
   "isInternetEnabled": false,
   "language": "python",
   "sourceType": "notebook"
  },
  "kernelspec": {
   "display_name": "Python 3",
   "language": "python",
   "name": "python3"
  },
  "language_info": {
   "codemirror_mode": {
    "name": "ipython",
    "version": 3
   },
   "file_extension": ".py",
   "mimetype": "text/x-python",
   "name": "python",
   "nbconvert_exporter": "python",
   "pygments_lexer": "ipython3",
   "version": "3.7.12"
  },
  "papermill": {
   "default_parameters": {},
   "duration": 56.644133,
   "end_time": "2024-04-19T06:15:57.652872",
   "environment_variables": {},
   "exception": null,
   "input_path": "__notebook__.ipynb",
   "output_path": "__notebook__.ipynb",
   "parameters": {},
   "start_time": "2024-04-19T06:15:01.008739",
   "version": "2.3.4"
  }
 },
 "nbformat": 4,
 "nbformat_minor": 5
}
