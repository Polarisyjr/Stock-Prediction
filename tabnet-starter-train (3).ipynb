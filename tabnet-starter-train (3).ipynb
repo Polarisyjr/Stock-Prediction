{
 "cells": [
  {
   "cell_type": "code",
   "execution_count": 1,
   "id": "9a36314a",
   "metadata": {
    "execution": {
     "iopub.execute_input": "2024-04-21T19:31:34.528533Z",
     "iopub.status.busy": "2024-04-21T19:31:34.527345Z",
     "iopub.status.idle": "2024-04-21T19:31:36.381111Z",
     "shell.execute_reply": "2024-04-21T19:31:36.379964Z"
    },
    "papermill": {
     "duration": 1.867331,
     "end_time": "2024-04-21T19:31:36.384158",
     "exception": false,
     "start_time": "2024-04-21T19:31:34.516827",
     "status": "completed"
    },
    "tags": []
   },
   "outputs": [
    {
     "name": "stdout",
     "output_type": "stream",
     "text": [
      "/kaggle/input/pytorchtabnet/pytorch_tabnet-2.0.0-py3-none-any.whl\n",
      "/kaggle/input/pytorchtabnet/pytorch_tabnet-3.1.0-py3-none-any.whl\n",
      "/kaggle/input/pytorchtabnet/pytorch_tabnet-4.0-py3-none-any.whl\n",
      "/kaggle/input/pytorchtabnet/pytorch_tabnet-2.0.1-py3-none-any.whl\n",
      "/kaggle/input/pytorchtabnet/pytorch_tabnet-1.2.0-py3-none-any.whl\n",
      "/kaggle/input/pytorchtabnet/pytorch_tabnet-3.1.1-py3-none-any.whl\n",
      "/kaggle/input/pytorchtabnet/pytorch_tabnet-3.0.0-py3-none-any.whl\n",
      "/kaggle/input/pytorchtabnet/pytorch_tabnet-4.1.0-py3-none-any.whl\n",
      "/kaggle/input/jpx-tokyo-stock-exchange-prediction/stock_list.csv\n",
      "/kaggle/input/jpx-tokyo-stock-exchange-prediction/example_test_files/sample_submission.csv\n",
      "/kaggle/input/jpx-tokyo-stock-exchange-prediction/example_test_files/options.csv\n",
      "/kaggle/input/jpx-tokyo-stock-exchange-prediction/example_test_files/financials.csv\n",
      "/kaggle/input/jpx-tokyo-stock-exchange-prediction/example_test_files/secondary_stock_prices.csv\n",
      "/kaggle/input/jpx-tokyo-stock-exchange-prediction/example_test_files/trades.csv\n",
      "/kaggle/input/jpx-tokyo-stock-exchange-prediction/example_test_files/stock_prices.csv\n",
      "/kaggle/input/jpx-tokyo-stock-exchange-prediction/jpx_tokyo_market_prediction/competition.cpython-37m-x86_64-linux-gnu.so\n",
      "/kaggle/input/jpx-tokyo-stock-exchange-prediction/jpx_tokyo_market_prediction/__init__.py\n",
      "/kaggle/input/jpx-tokyo-stock-exchange-prediction/data_specifications/stock_fin_spec.csv\n",
      "/kaggle/input/jpx-tokyo-stock-exchange-prediction/data_specifications/trades_spec.csv\n",
      "/kaggle/input/jpx-tokyo-stock-exchange-prediction/data_specifications/stock_price_spec.csv\n",
      "/kaggle/input/jpx-tokyo-stock-exchange-prediction/data_specifications/options_spec.csv\n",
      "/kaggle/input/jpx-tokyo-stock-exchange-prediction/data_specifications/stock_list_spec.csv\n",
      "/kaggle/input/jpx-tokyo-stock-exchange-prediction/train_files/options.csv\n",
      "/kaggle/input/jpx-tokyo-stock-exchange-prediction/train_files/financials.csv\n",
      "/kaggle/input/jpx-tokyo-stock-exchange-prediction/train_files/secondary_stock_prices.csv\n",
      "/kaggle/input/jpx-tokyo-stock-exchange-prediction/train_files/trades.csv\n",
      "/kaggle/input/jpx-tokyo-stock-exchange-prediction/train_files/stock_prices.csv\n",
      "/kaggle/input/jpx-tokyo-stock-exchange-prediction/supplemental_files/options.csv\n",
      "/kaggle/input/jpx-tokyo-stock-exchange-prediction/supplemental_files/financials.csv\n",
      "/kaggle/input/jpx-tokyo-stock-exchange-prediction/supplemental_files/secondary_stock_prices.csv\n",
      "/kaggle/input/jpx-tokyo-stock-exchange-prediction/supplemental_files/trades.csv\n",
      "/kaggle/input/jpx-tokyo-stock-exchange-prediction/supplemental_files/stock_prices.csv\n"
     ]
    }
   ],
   "source": [
    "# This Python 3 environment comes with many helpful analytics libraries installed\n",
    "# It is defined by the kaggle/python Docker image: https://github.com/kaggle/docker-python\n",
    "# For example, here's several helpful packages to load\n",
    "\n",
    "import numpy as np # linear algebra\n",
    "import pandas as pd # data processing, CSV file I/O (e.g. pd.read_csv)\n",
    "\n",
    "# Input data files are available in the read-only \"../input/\" directory\n",
    "# For example, running this (by clicking run or pressing Shift+Enter) will list all files under the input directory\n",
    "\n",
    "import os\n",
    "import torch\n",
    "import math\n",
    "for dirname, _, filenames in os.walk('/kaggle/input'):\n",
    "    for filename in filenames:\n",
    "        print(os.path.join(dirname, filename))\n",
    "\n",
    "# You can write up to 20GB to the current directory (/kaggle/working/) that gets preserved as output when you create a version using \"Save & Run All\" \n",
    "# You can also write temporary files to /kaggle/temp/, but they won't be saved outside of the current session"
   ]
  },
  {
   "cell_type": "code",
   "execution_count": 2,
   "id": "db2760ca",
   "metadata": {
    "execution": {
     "iopub.execute_input": "2024-04-21T19:31:36.402837Z",
     "iopub.status.busy": "2024-04-21T19:31:36.401674Z",
     "iopub.status.idle": "2024-04-21T19:32:10.118695Z",
     "shell.execute_reply": "2024-04-21T19:32:10.117515Z"
    },
    "papermill": {
     "duration": 33.728732,
     "end_time": "2024-04-21T19:32:10.121468",
     "exception": false,
     "start_time": "2024-04-21T19:31:36.392736",
     "status": "completed"
    },
    "tags": []
   },
   "outputs": [
    {
     "name": "stdout",
     "output_type": "stream",
     "text": [
      "\u001b[33mWARNING: Running pip as the 'root' user can result in broken permissions and conflicting behaviour with the system package manager. It is recommended to use a virtual environment instead: https://pip.pypa.io/warnings/venv\u001b[0m\u001b[33m\r\n",
      "\u001b[0m\u001b[33mWARNING: There was an error checking the latest version of pip.\u001b[0m\u001b[33m\r\n",
      "\u001b[0m"
     ]
    }
   ],
   "source": [
    "!pip -q install ../input/pytorchtabnet/pytorch_tabnet-4.1.0-py3-none-any.whl"
   ]
  },
  {
   "cell_type": "code",
   "execution_count": 3,
   "id": "8c51894d",
   "metadata": {
    "execution": {
     "iopub.execute_input": "2024-04-21T19:32:10.138660Z",
     "iopub.status.busy": "2024-04-21T19:32:10.138241Z",
     "iopub.status.idle": "2024-04-21T19:32:11.019397Z",
     "shell.execute_reply": "2024-04-21T19:32:11.018490Z"
    },
    "papermill": {
     "duration": 0.892903,
     "end_time": "2024-04-21T19:32:11.022060",
     "exception": false,
     "start_time": "2024-04-21T19:32:10.129157",
     "status": "completed"
    },
    "tags": []
   },
   "outputs": [],
   "source": [
    "from sklearn.preprocessing import StandardScaler\n",
    "from decimal import ROUND_HALF_UP, Decimal"
   ]
  },
  {
   "cell_type": "code",
   "execution_count": 4,
   "id": "c864627c",
   "metadata": {
    "execution": {
     "iopub.execute_input": "2024-04-21T19:32:11.039707Z",
     "iopub.status.busy": "2024-04-21T19:32:11.038908Z",
     "iopub.status.idle": "2024-04-21T19:32:11.043416Z",
     "shell.execute_reply": "2024-04-21T19:32:11.042533Z"
    },
    "papermill": {
     "duration": 0.015564,
     "end_time": "2024-04-21T19:32:11.045458",
     "exception": false,
     "start_time": "2024-04-21T19:32:11.029894",
     "status": "completed"
    },
    "tags": []
   },
   "outputs": [],
   "source": [
    "stand = StandardScaler()"
   ]
  },
  {
   "cell_type": "code",
   "execution_count": 5,
   "id": "dcedae79",
   "metadata": {
    "execution": {
     "iopub.execute_input": "2024-04-21T19:32:11.062865Z",
     "iopub.status.busy": "2024-04-21T19:32:11.062093Z",
     "iopub.status.idle": "2024-04-21T19:32:11.074829Z",
     "shell.execute_reply": "2024-04-21T19:32:11.073904Z"
    },
    "papermill": {
     "duration": 0.023728,
     "end_time": "2024-04-21T19:32:11.076947",
     "exception": false,
     "start_time": "2024-04-21T19:32:11.053219",
     "status": "completed"
    },
    "tags": []
   },
   "outputs": [],
   "source": [
    "def read_data(data):\n",
    "    data.sort_values(by=['SecuritiesCode', 'Date'], inplace=True)\n",
    "    data.drop(\"RowId\", axis=1, inplace=True)\n",
    "    data.reset_index(drop=True, inplace=True)\n",
    "    data.replace('－', np.nan, inplace=True)\n",
    "    cols = ['Open', 'High', 'Low', 'Close','Volume']\n",
    "    #data.set_index(['Date','SecuritiesCode'], inplace=True)\n",
    "    for col in cols:\n",
    "        data[col] = data.groupby(['SecuritiesCode'])[col].ffill()  # 分组前向填充\n",
    "        data[col] = data.groupby(['SecuritiesCode'])[col].bfill()  # 分组后向填充\n",
    "        data[col] = data.groupby('SecuritiesCode')[col].transform(lambda x: stand.fit_transform(x.values.reshape(-1, 1)).flatten())\n",
    "    data['Target'] = data['Target'].fillna(0)\n",
    "    data['AdjustmentFactor'] = data['AdjustmentFactor'].fillna(1)\n",
    "    data['ExpectedDividend'] = data['ExpectedDividend'].fillna(0)\n",
    "    data['SupervisionFlag'] = data['SupervisionFlag'].fillna(False)\n",
    "    \n",
    "    #data.reset_index(inplace=True)\n",
    "    data['SecuritiesCode'] = data['SecuritiesCode'].astype('int')\n",
    "    data['SupervisionFlag'] = data['SupervisionFlag'].astype('int')\n",
    "    data.loc[: ,\"Date\"] = pd.to_datetime(data.loc[: ,\"Date\"], format=\"%Y-%m-%d\")\n",
    "    \n",
    "    return data"
   ]
  },
  {
   "cell_type": "code",
   "execution_count": 6,
   "id": "9023fe4f",
   "metadata": {
    "execution": {
     "iopub.execute_input": "2024-04-21T19:32:11.094544Z",
     "iopub.status.busy": "2024-04-21T19:32:11.093745Z",
     "iopub.status.idle": "2024-04-21T19:32:11.099178Z",
     "shell.execute_reply": "2024-04-21T19:32:11.098159Z"
    },
    "papermill": {
     "duration": 0.016503,
     "end_time": "2024-04-21T19:32:11.101373",
     "exception": false,
     "start_time": "2024-04-21T19:32:11.084870",
     "status": "completed"
    },
    "tags": []
   },
   "outputs": [],
   "source": [
    "def qround(x):\n",
    "    return float(Decimal(str(x)).quantize(Decimal('0.1'), rounding=ROUND_HALF_UP))"
   ]
  },
  {
   "cell_type": "code",
   "execution_count": 7,
   "id": "9afb4f64",
   "metadata": {
    "execution": {
     "iopub.execute_input": "2024-04-21T19:32:11.119062Z",
     "iopub.status.busy": "2024-04-21T19:32:11.118120Z",
     "iopub.status.idle": "2024-04-21T19:32:11.125307Z",
     "shell.execute_reply": "2024-04-21T19:32:11.124433Z"
    },
    "papermill": {
     "duration": 0.018117,
     "end_time": "2024-04-21T19:32:11.127326",
     "exception": false,
     "start_time": "2024-04-21T19:32:11.109209",
     "status": "completed"
    },
    "tags": []
   },
   "outputs": [],
   "source": [
    "def adjust_prices(df):\n",
    "    df = df.sort_values(\"Date\", ascending=True)\n",
    "    df.loc[:, \"CumAdjust\"] = df[\"AdjustmentFactor\"].cumprod()\n",
    "\n",
    "    # generate adjusted prices\n",
    "    pcols = [\"Open\", \"High\", \"Low\", \"Close\"]\n",
    "    for p in pcols:\n",
    "        df.loc[:, p] = (df[\"CumAdjust\"] * df[p]).apply(qround)\n",
    "    df.loc[:, \"Volume\"] = df[\"Volume\"] / df[\"CumAdjust\"]\n",
    "    return df"
   ]
  },
  {
   "cell_type": "code",
   "execution_count": 8,
   "id": "495c5362",
   "metadata": {
    "execution": {
     "iopub.execute_input": "2024-04-21T19:32:11.144791Z",
     "iopub.status.busy": "2024-04-21T19:32:11.143976Z",
     "iopub.status.idle": "2024-04-21T19:32:35.501597Z",
     "shell.execute_reply": "2024-04-21T19:32:35.500757Z"
    },
    "papermill": {
     "duration": 24.369053,
     "end_time": "2024-04-21T19:32:35.504091",
     "exception": false,
     "start_time": "2024-04-21T19:32:11.135038",
     "status": "completed"
    },
    "tags": []
   },
   "outputs": [],
   "source": [
    "data_df = pd.read_csv('/kaggle/input/jpx-tokyo-stock-exchange-prediction/train_files/stock_prices.csv')\n",
    "data2_df = pd.read_csv('/kaggle/input/jpx-tokyo-stock-exchange-prediction/supplemental_files/stock_prices.csv')\n",
    "#data = pd.concat([data_df,data2_df], axis=0)\n",
    "\n",
    "#Rawdata = read_data(data)\n",
    "train = read_data(data_df)\n",
    "valid = read_data(data2_df)"
   ]
  },
  {
   "cell_type": "code",
   "execution_count": 9,
   "id": "1482cd67",
   "metadata": {
    "execution": {
     "iopub.execute_input": "2024-04-21T19:32:35.521594Z",
     "iopub.status.busy": "2024-04-21T19:32:35.521175Z",
     "iopub.status.idle": "2024-04-21T19:33:44.985023Z",
     "shell.execute_reply": "2024-04-21T19:33:44.984142Z"
    },
    "papermill": {
     "duration": 69.475537,
     "end_time": "2024-04-21T19:33:44.987624",
     "exception": false,
     "start_time": "2024-04-21T19:32:35.512087",
     "status": "completed"
    },
    "tags": []
   },
   "outputs": [],
   "source": [
    "#Rawdata = Rawdata.groupby(\"SecuritiesCode\").apply(adjust_prices)\n",
    "train = train.groupby(\"SecuritiesCode\").apply(adjust_prices)\n",
    "valid = valid.groupby(\"SecuritiesCode\").apply(adjust_prices)"
   ]
  },
  {
   "cell_type": "code",
   "execution_count": 10,
   "id": "5b5db1a5",
   "metadata": {
    "execution": {
     "iopub.execute_input": "2024-04-21T19:33:45.005518Z",
     "iopub.status.busy": "2024-04-21T19:33:45.004668Z",
     "iopub.status.idle": "2024-04-21T19:33:45.056848Z",
     "shell.execute_reply": "2024-04-21T19:33:45.055911Z"
    },
    "papermill": {
     "duration": 0.063631,
     "end_time": "2024-04-21T19:33:45.059411",
     "exception": false,
     "start_time": "2024-04-21T19:33:44.995780",
     "status": "completed"
    },
    "tags": []
   },
   "outputs": [],
   "source": [
    "from pytorch_tabnet.tab_model import TabNetRegressor\n",
    "from torch.optim.lr_scheduler import CosineAnnealingWarmRestarts"
   ]
  },
  {
   "cell_type": "code",
   "execution_count": 11,
   "id": "d646d1f2",
   "metadata": {
    "execution": {
     "iopub.execute_input": "2024-04-21T19:33:45.076580Z",
     "iopub.status.busy": "2024-04-21T19:33:45.075873Z",
     "iopub.status.idle": "2024-04-21T19:33:45.116240Z",
     "shell.execute_reply": "2024-04-21T19:33:45.115342Z"
    },
    "papermill": {
     "duration": 0.051679,
     "end_time": "2024-04-21T19:33:45.118736",
     "exception": false,
     "start_time": "2024-04-21T19:33:45.067057",
     "status": "completed"
    },
    "tags": []
   },
   "outputs": [],
   "source": [
    "# 计算分割点\n",
    "split_point = pd.to_datetime('2020-12-23 00:00:00')\n",
    "\n",
    "# 分割数据集\n",
    "# train_data = Rawdata[Rawdata['Date'] < split_point]\n",
    "# valid_data = Rawdata[Rawdata['Date'] >= split_point]\n",
    "train_data = train[train['Date'] >= split_point]\n",
    "valid_data = valid"
   ]
  },
  {
   "cell_type": "code",
   "execution_count": 12,
   "id": "b53f0202",
   "metadata": {
    "execution": {
     "iopub.execute_input": "2024-04-21T19:33:45.135529Z",
     "iopub.status.busy": "2024-04-21T19:33:45.135151Z",
     "iopub.status.idle": "2024-04-21T19:33:45.141554Z",
     "shell.execute_reply": "2024-04-21T19:33:45.140614Z"
    },
    "papermill": {
     "duration": 0.017529,
     "end_time": "2024-04-21T19:33:45.144065",
     "exception": false,
     "start_time": "2024-04-21T19:33:45.126536",
     "status": "completed"
    },
    "tags": []
   },
   "outputs": [
    {
     "name": "stdout",
     "output_type": "stream",
     "text": [
      "train_size: 63.22550931281774 %\n",
      "valid_size: 36.77449068718225 %\n"
     ]
    }
   ],
   "source": [
    "print('train_size:',len(train_data)/(len(train_data)+len(valid_data))*100,'%')\n",
    "print('valid_size:',len(valid_data)/(len(train_data)+len(valid_data))*100,'%')"
   ]
  },
  {
   "cell_type": "code",
   "execution_count": 13,
   "id": "723c217f",
   "metadata": {
    "execution": {
     "iopub.execute_input": "2024-04-21T19:33:45.161542Z",
     "iopub.status.busy": "2024-04-21T19:33:45.160755Z",
     "iopub.status.idle": "2024-04-21T19:33:45.165596Z",
     "shell.execute_reply": "2024-04-21T19:33:45.164644Z"
    },
    "papermill": {
     "duration": 0.015802,
     "end_time": "2024-04-21T19:33:45.167729",
     "exception": false,
     "start_time": "2024-04-21T19:33:45.151927",
     "status": "completed"
    },
    "tags": []
   },
   "outputs": [],
   "source": [
    "features = ['Open', 'High', 'Low', 'Close', 'Volume','ExpectedDividend','SupervisionFlag']"
   ]
  },
  {
   "cell_type": "code",
   "execution_count": 14,
   "id": "fad402fe",
   "metadata": {
    "execution": {
     "iopub.execute_input": "2024-04-21T19:33:45.184398Z",
     "iopub.status.busy": "2024-04-21T19:33:45.184022Z",
     "iopub.status.idle": "2024-04-21T19:33:45.191691Z",
     "shell.execute_reply": "2024-04-21T19:33:45.190722Z"
    },
    "papermill": {
     "duration": 0.018315,
     "end_time": "2024-04-21T19:33:45.193773",
     "exception": false,
     "start_time": "2024-04-21T19:33:45.175458",
     "status": "completed"
    },
    "tags": []
   },
   "outputs": [],
   "source": [
    "tabnet_params=dict(\n",
    "    n_d = 8, \n",
    "    n_a = 8, \n",
    "    n_steps = 5,\n",
    "    gamma = 1.3,\n",
    "    n_independent = 2, \n",
    "    n_shared = 2, \n",
    "    optimizer_fn = torch.optim.Adam,\n",
    "    mask_type = \"entmax\",\n",
    "    cat_idxs = [6],\n",
    "    cat_dims = [2],\n",
    "    cat_emb_dim = [1],\n",
    "    lambda_sparse = 1e-1,\n",
    "    scheduler_params = dict(T_0=200, T_mult=1, eta_min=1e-4, last_epoch=-1, verbose=False),\n",
    "    scheduler_fn = CosineAnnealingWarmRestarts,\n",
    "    seed = 42,\n",
    "    verbose = 1, \n",
    ")"
   ]
  },
  {
   "cell_type": "code",
   "execution_count": 15,
   "id": "938055f4",
   "metadata": {
    "execution": {
     "iopub.execute_input": "2024-04-21T19:33:45.210381Z",
     "iopub.status.busy": "2024-04-21T19:33:45.210019Z",
     "iopub.status.idle": "2024-04-21T19:33:45.267914Z",
     "shell.execute_reply": "2024-04-21T19:33:45.266882Z"
    },
    "papermill": {
     "duration": 0.068934,
     "end_time": "2024-04-21T19:33:45.270212",
     "exception": false,
     "start_time": "2024-04-21T19:33:45.201278",
     "status": "completed"
    },
    "tags": []
   },
   "outputs": [
    {
     "name": "stderr",
     "output_type": "stream",
     "text": [
      "/opt/conda/lib/python3.7/site-packages/pytorch_tabnet/abstract_model.py:82: UserWarning: Device used : cuda\n",
      "  warnings.warn(f\"Device used : {self.device}\")\n"
     ]
    }
   ],
   "source": [
    "clf=TabNetRegressor(**tabnet_params)"
   ]
  },
  {
   "cell_type": "code",
   "execution_count": 16,
   "id": "0ef4c1d6",
   "metadata": {
    "execution": {
     "iopub.execute_input": "2024-04-21T19:33:45.287918Z",
     "iopub.status.busy": "2024-04-21T19:33:45.287018Z",
     "iopub.status.idle": "2024-04-21T19:33:45.302665Z",
     "shell.execute_reply": "2024-04-21T19:33:45.301784Z"
    },
    "papermill": {
     "duration": 0.026615,
     "end_time": "2024-04-21T19:33:45.304666",
     "exception": false,
     "start_time": "2024-04-21T19:33:45.278051",
     "status": "completed"
    },
    "tags": []
   },
   "outputs": [],
   "source": [
    "x_train = train_data[features]\n",
    "y_train = train_data['Target']\n",
    "\n",
    "x_valid = valid_data[features]\n",
    "y_valid = valid_data['Target']"
   ]
  },
  {
   "cell_type": "code",
   "execution_count": 17,
   "id": "b63b95c2",
   "metadata": {
    "execution": {
     "iopub.execute_input": "2024-04-21T19:33:45.321718Z",
     "iopub.status.busy": "2024-04-21T19:33:45.321335Z",
     "iopub.status.idle": "2024-04-21T19:33:45.333601Z",
     "shell.execute_reply": "2024-04-21T19:33:45.332895Z"
    },
    "papermill": {
     "duration": 0.023155,
     "end_time": "2024-04-21T19:33:45.335808",
     "exception": false,
     "start_time": "2024-04-21T19:33:45.312653",
     "status": "completed"
    },
    "tags": []
   },
   "outputs": [],
   "source": [
    "from pytorch_tabnet.augmentations import RegressionSMOTE\n",
    "aug = RegressionSMOTE(p=0.2)"
   ]
  },
  {
   "cell_type": "code",
   "execution_count": 18,
   "id": "0a131ad5",
   "metadata": {
    "execution": {
     "iopub.execute_input": "2024-04-21T19:33:45.352717Z",
     "iopub.status.busy": "2024-04-21T19:33:45.352228Z",
     "iopub.status.idle": "2024-04-21T19:38:08.648356Z",
     "shell.execute_reply": "2024-04-21T19:38:08.647433Z"
    },
    "papermill": {
     "duration": 263.307398,
     "end_time": "2024-04-21T19:38:08.650903",
     "exception": false,
     "start_time": "2024-04-21T19:33:45.343505",
     "status": "completed"
    },
    "tags": []
   },
   "outputs": [
    {
     "name": "stdout",
     "output_type": "stream",
     "text": [
      "epoch 0  | loss: 0.4612  | train_mae: 0.07937 | train_rmse: 0.22175 | train_mse: 0.04918 | valid_mae: 0.06027 | valid_rmse: 0.18406 | valid_mse: 0.03388 |  0:00:09s\n",
      "epoch 1  | loss: 0.10513 | train_mae: 0.0363  | train_rmse: 0.11305 | train_mse: 0.01278 | valid_mae: 0.02813 | valid_rmse: 0.06736 | valid_mse: 0.00454 |  0:00:19s\n",
      "epoch 2  | loss: 0.06224 | train_mae: 0.02332 | train_rmse: 0.04213 | train_mse: 0.00178 | valid_mae: 0.02018 | valid_rmse: 0.02867 | valid_mse: 0.00082 |  0:00:28s\n",
      "epoch 3  | loss: 0.03491 | train_mae: 0.02478 | train_rmse: 0.03797 | train_mse: 0.00144 | valid_mae: 0.02179 | valid_rmse: 0.03136 | valid_mse: 0.00098 |  0:00:37s\n",
      "epoch 4  | loss: 0.02388 | train_mae: 0.01697 | train_rmse: 0.02665 | train_mse: 0.00071 | valid_mae: 0.01745 | valid_rmse: 0.02769 | valid_mse: 0.00077 |  0:00:46s\n",
      "epoch 5  | loss: 0.0123  | train_mae: 0.01673 | train_rmse: 0.02397 | train_mse: 0.00057 | valid_mae: 0.01761 | valid_rmse: 0.02551 | valid_mse: 0.00065 |  0:00:55s\n",
      "epoch 6  | loss: 0.00681 | train_mae: 0.01537 | train_rmse: 0.02245 | train_mse: 0.0005  | valid_mae: 0.01641 | valid_rmse: 0.02406 | valid_mse: 0.00058 |  0:01:04s\n",
      "epoch 7  | loss: 0.00509 | train_mae: 0.01536 | train_rmse: 0.02279 | train_mse: 0.00052 | valid_mae: 0.01641 | valid_rmse: 0.02432 | valid_mse: 0.00059 |  0:01:13s\n",
      "epoch 8  | loss: 0.00382 | train_mae: 0.01529 | train_rmse: 0.02245 | train_mse: 0.0005  | valid_mae: 0.01637 | valid_rmse: 0.02399 | valid_mse: 0.00058 |  0:01:23s\n",
      "epoch 9  | loss: 0.0029  | train_mae: 0.01527 | train_rmse: 0.02243 | train_mse: 0.0005  | valid_mae: 0.01638 | valid_rmse: 0.02395 | valid_mse: 0.00057 |  0:01:32s\n",
      "epoch 10 | loss: 0.0025  | train_mae: 0.0154  | train_rmse: 0.02226 | train_mse: 0.0005  | valid_mae: 0.01651 | valid_rmse: 0.02401 | valid_mse: 0.00058 |  0:01:41s\n",
      "epoch 11 | loss: 0.00227 | train_mae: 0.01525 | train_rmse: 0.02205 | train_mse: 0.00049 | valid_mae: 0.01642 | valid_rmse: 0.02396 | valid_mse: 0.00057 |  0:01:50s\n",
      "epoch 12 | loss: 0.00196 | train_mae: 0.01518 | train_rmse: 0.022   | train_mse: 0.00048 | valid_mae: 0.01632 | valid_rmse: 0.02388 | valid_mse: 0.00057 |  0:01:59s\n",
      "epoch 13 | loss: 0.00174 | train_mae: 0.01515 | train_rmse: 0.022   | train_mse: 0.00048 | valid_mae: 0.01629 | valid_rmse: 0.02387 | valid_mse: 0.00057 |  0:02:08s\n",
      "epoch 14 | loss: 0.00157 | train_mae: 0.01511 | train_rmse: 0.02197 | train_mse: 0.00048 | valid_mae: 0.01627 | valid_rmse: 0.02385 | valid_mse: 0.00057 |  0:02:17s\n",
      "epoch 15 | loss: 0.0015  | train_mae: 0.0151  | train_rmse: 0.02194 | train_mse: 0.00048 | valid_mae: 0.01625 | valid_rmse: 0.02383 | valid_mse: 0.00057 |  0:02:27s\n",
      "epoch 16 | loss: 0.00146 | train_mae: 0.01524 | train_rmse: 0.02213 | train_mse: 0.00049 | valid_mae: 0.0163  | valid_rmse: 0.02386 | valid_mse: 0.00057 |  0:02:36s\n",
      "epoch 17 | loss: 0.00148 | train_mae: 0.01511 | train_rmse: 0.02196 | train_mse: 0.00048 | valid_mae: 0.01622 | valid_rmse: 0.0238  | valid_mse: 0.00057 |  0:02:45s\n",
      "epoch 18 | loss: 0.00135 | train_mae: 0.01517 | train_rmse: 0.022   | train_mse: 0.00048 | valid_mae: 0.01629 | valid_rmse: 0.02384 | valid_mse: 0.00057 |  0:02:54s\n",
      "epoch 19 | loss: 0.00127 | train_mae: 0.01515 | train_rmse: 0.022   | train_mse: 0.00048 | valid_mae: 0.01624 | valid_rmse: 0.02381 | valid_mse: 0.00057 |  0:03:03s\n",
      "epoch 20 | loss: 0.0012  | train_mae: 0.01515 | train_rmse: 0.02199 | train_mse: 0.00048 | valid_mae: 0.01628 | valid_rmse: 0.02383 | valid_mse: 0.00057 |  0:03:12s\n",
      "epoch 21 | loss: 0.0012  | train_mae: 0.01509 | train_rmse: 0.02194 | train_mse: 0.00048 | valid_mae: 0.01627 | valid_rmse: 0.02384 | valid_mse: 0.00057 |  0:03:21s\n",
      "epoch 22 | loss: 0.00123 | train_mae: 0.01516 | train_rmse: 0.02199 | train_mse: 0.00048 | valid_mae: 0.01631 | valid_rmse: 0.02387 | valid_mse: 0.00057 |  0:03:30s\n",
      "epoch 23 | loss: 0.00117 | train_mae: 0.01508 | train_rmse: 0.02192 | train_mse: 0.00048 | valid_mae: 0.01626 | valid_rmse: 0.02383 | valid_mse: 0.00057 |  0:03:39s\n",
      "epoch 24 | loss: 0.00118 | train_mae: 0.01507 | train_rmse: 0.02194 | train_mse: 0.00048 | valid_mae: 0.01622 | valid_rmse: 0.02382 | valid_mse: 0.00057 |  0:03:48s\n",
      "epoch 25 | loss: 0.00115 | train_mae: 0.01509 | train_rmse: 0.02193 | train_mse: 0.00048 | valid_mae: 0.01625 | valid_rmse: 0.02382 | valid_mse: 0.00057 |  0:03:57s\n",
      "epoch 26 | loss: 0.00111 | train_mae: 0.01509 | train_rmse: 0.02193 | train_mse: 0.00048 | valid_mae: 0.01624 | valid_rmse: 0.02382 | valid_mse: 0.00057 |  0:04:07s\n",
      "epoch 27 | loss: 0.0011  | train_mae: 0.01511 | train_rmse: 0.02194 | train_mse: 0.00048 | valid_mae: 0.01629 | valid_rmse: 0.02384 | valid_mse: 0.00057 |  0:04:16s\n",
      "\n",
      "Early stopping occurred at epoch 27 with best_epoch = 17 and best_valid_mse = 0.00057\n"
     ]
    },
    {
     "name": "stderr",
     "output_type": "stream",
     "text": [
      "/opt/conda/lib/python3.7/site-packages/pytorch_tabnet/callbacks.py:172: UserWarning: Best weights from best epoch are automatically used!\n",
      "  warnings.warn(wrn_msg)\n"
     ]
    }
   ],
   "source": [
    "clf.fit(\n",
    "    X_train=x_train.values, y_train=y_train.values.reshape(-1, 1),\n",
    "    eval_set=[(x_train.values, y_train.values.reshape(-1, 1)), (x_valid.values, y_valid.values.reshape(-1,1))],\n",
    "    eval_name=['train', 'valid'],\n",
    "    eval_metric=['mae', 'rmse', 'mse'],\n",
    "    max_epochs=100,\n",
    "    patience=10,\n",
    "    batch_size=1024*20, virtual_batch_size=128*20,\n",
    "    num_workers=4,\n",
    "    drop_last=False,\n",
    "    #augmentations=aug, #aug\n",
    ") "
   ]
  },
  {
   "cell_type": "code",
   "execution_count": 19,
   "id": "cb909e99",
   "metadata": {
    "execution": {
     "iopub.execute_input": "2024-04-21T19:38:08.674264Z",
     "iopub.status.busy": "2024-04-21T19:38:08.673829Z",
     "iopub.status.idle": "2024-04-21T19:38:08.695660Z",
     "shell.execute_reply": "2024-04-21T19:38:08.694748Z"
    },
    "papermill": {
     "duration": 0.036429,
     "end_time": "2024-04-21T19:38:08.698040",
     "exception": false,
     "start_time": "2024-04-21T19:38:08.661611",
     "status": "completed"
    },
    "tags": []
   },
   "outputs": [],
   "source": [
    "import jpx_tokyo_market_prediction\n",
    "env = jpx_tokyo_market_prediction.make_env()   # initialize the environment\n",
    "iter_test = env.iter_test()    # an iterator which loops over the test files"
   ]
  },
  {
   "cell_type": "code",
   "execution_count": 20,
   "id": "b0f3c964",
   "metadata": {
    "execution": {
     "iopub.execute_input": "2024-04-21T19:38:08.721366Z",
     "iopub.status.busy": "2024-04-21T19:38:08.720465Z",
     "iopub.status.idle": "2024-04-21T19:38:44.953590Z",
     "shell.execute_reply": "2024-04-21T19:38:44.952548Z"
    },
    "papermill": {
     "duration": 36.247507,
     "end_time": "2024-04-21T19:38:44.956266",
     "exception": false,
     "start_time": "2024-04-21T19:38:08.708759",
     "status": "completed"
    },
    "tags": []
   },
   "outputs": [
    {
     "name": "stdout",
     "output_type": "stream",
     "text": [
      "This version of the API is not optimized and should not be used to estimate the runtime of your code on the hidden test set.\n"
     ]
    }
   ],
   "source": [
    "for (prices, options, financials, trades, secondary_prices, sample_prediction) in iter_test:  \n",
    "    prices.sort_values(by=['SecuritiesCode', 'Date'], inplace=True)\n",
    "    prices.drop(\"RowId\", axis=1, inplace=True)\n",
    "    prices.reset_index(drop=True, inplace=True)\n",
    "    prices.replace('－', np.nan, inplace=True)\n",
    "    cols = ['Open', 'High', 'Low', 'Close','Volume']\n",
    "    for col in cols:\n",
    "        prices[col] = prices[col].fillna(0)\n",
    "        prices[col] = prices.groupby('SecuritiesCode')[col].transform(lambda x: stand.fit_transform(x.values.reshape(-1, 1)).flatten())\n",
    "    prices['AdjustmentFactor'] = prices['AdjustmentFactor'].fillna(1)\n",
    "    prices['ExpectedDividend'] = prices['ExpectedDividend'].fillna(0)\n",
    "    prices['SupervisionFlag'] = prices['SupervisionFlag'].fillna(False)\n",
    "    \n",
    "    prices['SecuritiesCode'] = prices['SecuritiesCode'].astype('int')\n",
    "    prices['SupervisionFlag'] = prices['SupervisionFlag'].astype('int')\n",
    "    prices.loc[: ,\"Date\"] = pd.to_datetime(prices.loc[: ,\"Date\"], format=\"%Y-%m-%d\")\n",
    "    \n",
    "    prices = prices.groupby(\"SecuritiesCode\").apply(adjust_prices)\n",
    "    \n",
    "    pred = clf.predict(prices[features].values)\n",
    "    prices['Target'] = pred\n",
    "    # sort in descending order by Target\n",
    "    prices = prices.sort_values(by = \"Target\", ascending = False)\n",
    "    # add Rank\n",
    "    prices['Rank'] = np.arange(len(prices.index))\n",
    "    prices = prices.sort_values(by = \"SecuritiesCode\", ascending = True)\n",
    "    prices.drop([\"Target\"], axis = 1)\n",
    "    submission = prices[[\"Date\", \"SecuritiesCode\", \"Rank\"]]\n",
    "    # register your predictions\n",
    "    env.predict(submission)"
   ]
  },
  {
   "cell_type": "code",
   "execution_count": null,
   "id": "a38abb30",
   "metadata": {
    "papermill": {
     "duration": 0.010116,
     "end_time": "2024-04-21T19:38:44.977589",
     "exception": false,
     "start_time": "2024-04-21T19:38:44.967473",
     "status": "completed"
    },
    "tags": []
   },
   "outputs": [],
   "source": []
  }
 ],
 "metadata": {
  "kaggle": {
   "accelerator": "gpu",
   "dataSources": [
    {
     "databundleVersionId": 3935619,
     "sourceId": 34349,
     "sourceType": "competition"
    },
    {
     "datasetId": 921302,
     "sourceId": 7453542,
     "sourceType": "datasetVersion"
    }
   ],
   "dockerImageVersionId": 30198,
   "isGpuEnabled": true,
   "isInternetEnabled": false,
   "language": "python",
   "sourceType": "notebook"
  },
  "kernelspec": {
   "display_name": "Python 3",
   "language": "python",
   "name": "python3"
  },
  "language_info": {
   "codemirror_mode": {
    "name": "ipython",
    "version": 3
   },
   "file_extension": ".py",
   "mimetype": "text/x-python",
   "name": "python",
   "nbconvert_exporter": "python",
   "pygments_lexer": "ipython3",
   "version": "3.7.12"
  },
  "papermill": {
   "default_parameters": {},
   "duration": 442.300564,
   "end_time": "2024-04-21T19:38:46.413699",
   "environment_variables": {},
   "exception": null,
   "input_path": "__notebook__.ipynb",
   "output_path": "__notebook__.ipynb",
   "parameters": {},
   "start_time": "2024-04-21T19:31:24.113135",
   "version": "2.3.4"
  }
 },
 "nbformat": 4,
 "nbformat_minor": 5
}
