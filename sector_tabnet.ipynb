{
 "cells": [
  {
   "cell_type": "code",
   "execution_count": 1,
   "id": "7983b367",
   "metadata": {
    "execution": {
     "iopub.execute_input": "2024-04-22T01:10:24.157227Z",
     "iopub.status.busy": "2024-04-22T01:10:24.156792Z",
     "iopub.status.idle": "2024-04-22T01:10:25.806754Z",
     "shell.execute_reply": "2024-04-22T01:10:25.805917Z"
    },
    "papermill": {
     "duration": 1.66208,
     "end_time": "2024-04-22T01:10:25.809556",
     "exception": false,
     "start_time": "2024-04-22T01:10:24.147476",
     "status": "completed"
    },
    "tags": []
   },
   "outputs": [
    {
     "name": "stdout",
     "output_type": "stream",
     "text": [
      "/kaggle/input/jpx-tokyo-stock-exchange-prediction/stock_list.csv\n",
      "/kaggle/input/jpx-tokyo-stock-exchange-prediction/example_test_files/sample_submission.csv\n",
      "/kaggle/input/jpx-tokyo-stock-exchange-prediction/example_test_files/options.csv\n",
      "/kaggle/input/jpx-tokyo-stock-exchange-prediction/example_test_files/financials.csv\n",
      "/kaggle/input/jpx-tokyo-stock-exchange-prediction/example_test_files/secondary_stock_prices.csv\n",
      "/kaggle/input/jpx-tokyo-stock-exchange-prediction/example_test_files/trades.csv\n",
      "/kaggle/input/jpx-tokyo-stock-exchange-prediction/example_test_files/stock_prices.csv\n",
      "/kaggle/input/jpx-tokyo-stock-exchange-prediction/jpx_tokyo_market_prediction/competition.cpython-37m-x86_64-linux-gnu.so\n",
      "/kaggle/input/jpx-tokyo-stock-exchange-prediction/jpx_tokyo_market_prediction/__init__.py\n",
      "/kaggle/input/jpx-tokyo-stock-exchange-prediction/data_specifications/stock_fin_spec.csv\n",
      "/kaggle/input/jpx-tokyo-stock-exchange-prediction/data_specifications/trades_spec.csv\n",
      "/kaggle/input/jpx-tokyo-stock-exchange-prediction/data_specifications/stock_price_spec.csv\n",
      "/kaggle/input/jpx-tokyo-stock-exchange-prediction/data_specifications/options_spec.csv\n",
      "/kaggle/input/jpx-tokyo-stock-exchange-prediction/data_specifications/stock_list_spec.csv\n",
      "/kaggle/input/jpx-tokyo-stock-exchange-prediction/train_files/options.csv\n",
      "/kaggle/input/jpx-tokyo-stock-exchange-prediction/train_files/financials.csv\n",
      "/kaggle/input/jpx-tokyo-stock-exchange-prediction/train_files/secondary_stock_prices.csv\n",
      "/kaggle/input/jpx-tokyo-stock-exchange-prediction/train_files/trades.csv\n",
      "/kaggle/input/jpx-tokyo-stock-exchange-prediction/train_files/stock_prices.csv\n",
      "/kaggle/input/jpx-tokyo-stock-exchange-prediction/supplemental_files/options.csv\n",
      "/kaggle/input/jpx-tokyo-stock-exchange-prediction/supplemental_files/financials.csv\n",
      "/kaggle/input/jpx-tokyo-stock-exchange-prediction/supplemental_files/secondary_stock_prices.csv\n",
      "/kaggle/input/jpx-tokyo-stock-exchange-prediction/supplemental_files/trades.csv\n",
      "/kaggle/input/jpx-tokyo-stock-exchange-prediction/supplemental_files/stock_prices.csv\n",
      "/kaggle/input/pytorchtabnet/pytorch_tabnet-2.0.0-py3-none-any.whl\n",
      "/kaggle/input/pytorchtabnet/pytorch_tabnet-3.1.0-py3-none-any.whl\n",
      "/kaggle/input/pytorchtabnet/pytorch_tabnet-4.0-py3-none-any.whl\n",
      "/kaggle/input/pytorchtabnet/pytorch_tabnet-2.0.1-py3-none-any.whl\n",
      "/kaggle/input/pytorchtabnet/pytorch_tabnet-1.2.0-py3-none-any.whl\n",
      "/kaggle/input/pytorchtabnet/pytorch_tabnet-3.1.1-py3-none-any.whl\n",
      "/kaggle/input/pytorchtabnet/pytorch_tabnet-3.0.0-py3-none-any.whl\n",
      "/kaggle/input/pytorchtabnet/pytorch_tabnet-4.1.0-py3-none-any.whl\n"
     ]
    }
   ],
   "source": [
    "# This Python 3 environment comes with many helpful analytics libraries installed\n",
    "# It is defined by the kaggle/python Docker image: https://github.com/kaggle/docker-python\n",
    "# For example, here's several helpful packages to load\n",
    "\n",
    "import numpy as np # linear algebra\n",
    "import pandas as pd # data processing, CSV file I/O (e.g. pd.read_csv)\n",
    "\n",
    "# Input data files are available in the read-only \"../input/\" directory\n",
    "# For example, running this (by clicking run or pressing Shift+Enter) will list all files under the input directory\n",
    "\n",
    "import os\n",
    "import torch\n",
    "import math\n",
    "for dirname, _, filenames in os.walk('/kaggle/input'):\n",
    "    for filename in filenames:\n",
    "        print(os.path.join(dirname, filename))\n",
    "\n",
    "# You can write up to 20GB to the current directory (/kaggle/working/) that gets preserved as output when you create a version using \"Save & Run All\" \n",
    "# You can also write temporary files to /kaggle/temp/, but they won't be saved outside of the current session"
   ]
  },
  {
   "cell_type": "code",
   "execution_count": 2,
   "id": "b7d72b45",
   "metadata": {
    "execution": {
     "iopub.execute_input": "2024-04-22T01:10:25.824993Z",
     "iopub.status.busy": "2024-04-22T01:10:25.824501Z",
     "iopub.status.idle": "2024-04-22T01:10:57.864259Z",
     "shell.execute_reply": "2024-04-22T01:10:57.863163Z"
    },
    "papermill": {
     "duration": 32.04974,
     "end_time": "2024-04-22T01:10:57.866491",
     "exception": false,
     "start_time": "2024-04-22T01:10:25.816751",
     "status": "completed"
    },
    "tags": []
   },
   "outputs": [
    {
     "name": "stdout",
     "output_type": "stream",
     "text": [
      "\u001b[33mWARNING: Running pip as the 'root' user can result in broken permissions and conflicting behaviour with the system package manager. It is recommended to use a virtual environment instead: https://pip.pypa.io/warnings/venv\u001b[0m\u001b[33m\r\n",
      "\u001b[0m\u001b[33mWARNING: There was an error checking the latest version of pip.\u001b[0m\u001b[33m\r\n",
      "\u001b[0m"
     ]
    }
   ],
   "source": [
    "!pip -q install ../input/pytorchtabnet/pytorch_tabnet-4.1.0-py3-none-any.whl"
   ]
  },
  {
   "cell_type": "code",
   "execution_count": 3,
   "id": "4b0ce931",
   "metadata": {
    "execution": {
     "iopub.execute_input": "2024-04-22T01:10:57.882451Z",
     "iopub.status.busy": "2024-04-22T01:10:57.882094Z",
     "iopub.status.idle": "2024-04-22T01:10:58.702134Z",
     "shell.execute_reply": "2024-04-22T01:10:58.701318Z"
    },
    "papermill": {
     "duration": 0.830516,
     "end_time": "2024-04-22T01:10:58.704532",
     "exception": false,
     "start_time": "2024-04-22T01:10:57.874016",
     "status": "completed"
    },
    "tags": []
   },
   "outputs": [],
   "source": [
    "from sklearn.preprocessing import StandardScaler\n",
    "from sklearn.preprocessing import LabelEncoder\n",
    "from decimal import ROUND_HALF_UP, Decimal"
   ]
  },
  {
   "cell_type": "code",
   "execution_count": 4,
   "id": "e2b3466d",
   "metadata": {
    "execution": {
     "iopub.execute_input": "2024-04-22T01:10:58.720547Z",
     "iopub.status.busy": "2024-04-22T01:10:58.720189Z",
     "iopub.status.idle": "2024-04-22T01:10:58.724501Z",
     "shell.execute_reply": "2024-04-22T01:10:58.723704Z"
    },
    "papermill": {
     "duration": 0.014566,
     "end_time": "2024-04-22T01:10:58.726353",
     "exception": false,
     "start_time": "2024-04-22T01:10:58.711787",
     "status": "completed"
    },
    "tags": []
   },
   "outputs": [],
   "source": [
    "stand = StandardScaler()\n",
    "le = LabelEncoder()"
   ]
  },
  {
   "cell_type": "code",
   "execution_count": 5,
   "id": "e095b726",
   "metadata": {
    "execution": {
     "iopub.execute_input": "2024-04-22T01:10:58.742210Z",
     "iopub.status.busy": "2024-04-22T01:10:58.741814Z",
     "iopub.status.idle": "2024-04-22T01:10:58.756039Z",
     "shell.execute_reply": "2024-04-22T01:10:58.755209Z"
    },
    "papermill": {
     "duration": 0.024432,
     "end_time": "2024-04-22T01:10:58.757981",
     "exception": false,
     "start_time": "2024-04-22T01:10:58.733549",
     "status": "completed"
    },
    "tags": []
   },
   "outputs": [],
   "source": [
    "def read_data(data):\n",
    "    stock_list = pd.read_csv(os.path.join('/kaggle/input/jpx-tokyo-stock-exchange-prediction/', \"stock_list.csv\"))\n",
    "    target_stock_list = stock_list[stock_list[\"Universe0\"]]\n",
    "    \n",
    "    data.sort_values(by=['SecuritiesCode', 'Date'], inplace=True)\n",
    "    data.drop(\"RowId\", axis=1, inplace=True)\n",
    "    data.reset_index(drop=True, inplace=True)\n",
    "    data.replace('－', np.nan, inplace=True)\n",
    "    cols = ['Open', 'High', 'Low', 'Close','Volume']\n",
    "    #data.set_index(['Date','SecuritiesCode'], inplace=True)\n",
    "    for col in cols:\n",
    "        data[col] = data.groupby(['SecuritiesCode'])[col].ffill()  # 分组前向填充\n",
    "        data[col] = data.groupby(['SecuritiesCode'])[col].bfill()  # 分组后向填充\n",
    "        data[col] = data.groupby('SecuritiesCode')[col].transform(lambda x: stand.fit_transform(x.values.reshape(-1, 1)).flatten())\n",
    "    data['Target'] = data['Target'].fillna(0)\n",
    "    data['AdjustmentFactor'] = data['AdjustmentFactor'].fillna(1)\n",
    "    data['ExpectedDividend'] = data['ExpectedDividend'].fillna(0)\n",
    "    data['SupervisionFlag'] = data['SupervisionFlag'].fillna(False)\n",
    "    \n",
    "    sec_info = target_stock_list[[\"SecuritiesCode\", \"33SectorName\"]]\n",
    "    data = pd.merge(data, sec_info, on=\"SecuritiesCode\")\n",
    "    data[\"33SectorName\"] = data[\"33SectorName\"].astype(\"category\")\n",
    "    data.loc[:, 'sector'] = le.fit_transform(data['33SectorName'])\n",
    "    \n",
    "    #data.reset_index(inplace=True)\n",
    "    data['SecuritiesCode'] = data['SecuritiesCode'].astype('int')\n",
    "    data['SupervisionFlag'] = data['SupervisionFlag'].astype('int')\n",
    "    data.loc[: ,\"Date\"] = pd.to_datetime(data.loc[: ,\"Date\"], format=\"%Y-%m-%d\")\n",
    "    \n",
    "    return data"
   ]
  },
  {
   "cell_type": "code",
   "execution_count": 6,
   "id": "36a2e4d4",
   "metadata": {
    "execution": {
     "iopub.execute_input": "2024-04-22T01:10:58.774189Z",
     "iopub.status.busy": "2024-04-22T01:10:58.773603Z",
     "iopub.status.idle": "2024-04-22T01:10:58.778170Z",
     "shell.execute_reply": "2024-04-22T01:10:58.777402Z"
    },
    "papermill": {
     "duration": 0.01474,
     "end_time": "2024-04-22T01:10:58.780009",
     "exception": false,
     "start_time": "2024-04-22T01:10:58.765269",
     "status": "completed"
    },
    "tags": []
   },
   "outputs": [],
   "source": [
    "def qround(x):\n",
    "    return float(Decimal(str(x)).quantize(Decimal('0.1'), rounding=ROUND_HALF_UP))"
   ]
  },
  {
   "cell_type": "code",
   "execution_count": 7,
   "id": "e198ff41",
   "metadata": {
    "execution": {
     "iopub.execute_input": "2024-04-22T01:10:58.795798Z",
     "iopub.status.busy": "2024-04-22T01:10:58.795447Z",
     "iopub.status.idle": "2024-04-22T01:10:58.801686Z",
     "shell.execute_reply": "2024-04-22T01:10:58.800932Z"
    },
    "papermill": {
     "duration": 0.016353,
     "end_time": "2024-04-22T01:10:58.803536",
     "exception": false,
     "start_time": "2024-04-22T01:10:58.787183",
     "status": "completed"
    },
    "tags": []
   },
   "outputs": [],
   "source": [
    "def adjust_prices(df):\n",
    "    df = df.sort_values(\"Date\", ascending=True)\n",
    "    df.loc[:, \"CumAdjust\"] = df[\"AdjustmentFactor\"].cumprod()\n",
    "\n",
    "    # generate adjusted prices\n",
    "    pcols = [\"Open\", \"High\", \"Low\", \"Close\"]\n",
    "    for p in pcols:\n",
    "        df.loc[:, p] = (df[\"CumAdjust\"] * df[p]).apply(qround)\n",
    "    df.loc[:, \"Volume\"] = df[\"Volume\"] / df[\"CumAdjust\"]\n",
    "    return df"
   ]
  },
  {
   "cell_type": "code",
   "execution_count": 8,
   "id": "529d9525",
   "metadata": {
    "execution": {
     "iopub.execute_input": "2024-04-22T01:10:58.819453Z",
     "iopub.status.busy": "2024-04-22T01:10:58.818656Z",
     "iopub.status.idle": "2024-04-22T01:11:22.184402Z",
     "shell.execute_reply": "2024-04-22T01:11:22.183496Z"
    },
    "papermill": {
     "duration": 23.376215,
     "end_time": "2024-04-22T01:11:22.186871",
     "exception": false,
     "start_time": "2024-04-22T01:10:58.810656",
     "status": "completed"
    },
    "tags": []
   },
   "outputs": [],
   "source": [
    "data_df = pd.read_csv('/kaggle/input/jpx-tokyo-stock-exchange-prediction/train_files/stock_prices.csv')\n",
    "data2_df = pd.read_csv('/kaggle/input/jpx-tokyo-stock-exchange-prediction/supplemental_files/stock_prices.csv')\n",
    "#data = pd.concat([data_df,data2_df], axis=0)\n",
    "\n",
    "#Rawdata = read_data(data)\n",
    "train = read_data(data_df)\n",
    "valid = read_data(data2_df)"
   ]
  },
  {
   "cell_type": "code",
   "execution_count": 9,
   "id": "0e092851",
   "metadata": {
    "execution": {
     "iopub.execute_input": "2024-04-22T01:11:22.203442Z",
     "iopub.status.busy": "2024-04-22T01:11:22.202574Z",
     "iopub.status.idle": "2024-04-22T01:12:22.521667Z",
     "shell.execute_reply": "2024-04-22T01:12:22.520683Z"
    },
    "papermill": {
     "duration": 60.329795,
     "end_time": "2024-04-22T01:12:22.524122",
     "exception": false,
     "start_time": "2024-04-22T01:11:22.194327",
     "status": "completed"
    },
    "tags": []
   },
   "outputs": [],
   "source": [
    "#Rawdata = Rawdata.groupby(\"SecuritiesCode\").apply(adjust_prices)\n",
    "train = train.groupby(\"SecuritiesCode\").apply(adjust_prices)\n",
    "valid = valid.groupby(\"SecuritiesCode\").apply(adjust_prices)"
   ]
  },
  {
   "cell_type": "code",
   "execution_count": 10,
   "id": "8e33e28c",
   "metadata": {
    "execution": {
     "iopub.execute_input": "2024-04-22T01:12:22.541118Z",
     "iopub.status.busy": "2024-04-22T01:12:22.540154Z",
     "iopub.status.idle": "2024-04-22T01:12:22.586575Z",
     "shell.execute_reply": "2024-04-22T01:12:22.585833Z"
    },
    "papermill": {
     "duration": 0.056919,
     "end_time": "2024-04-22T01:12:22.588776",
     "exception": false,
     "start_time": "2024-04-22T01:12:22.531857",
     "status": "completed"
    },
    "tags": []
   },
   "outputs": [],
   "source": [
    "from pytorch_tabnet.tab_model import TabNetRegressor\n",
    "from torch.optim.lr_scheduler import CosineAnnealingWarmRestarts"
   ]
  },
  {
   "cell_type": "code",
   "execution_count": 11,
   "id": "780ff251",
   "metadata": {
    "execution": {
     "iopub.execute_input": "2024-04-22T01:12:22.604346Z",
     "iopub.status.busy": "2024-04-22T01:12:22.603978Z",
     "iopub.status.idle": "2024-04-22T01:12:22.608720Z",
     "shell.execute_reply": "2024-04-22T01:12:22.607972Z"
    },
    "papermill": {
     "duration": 0.014622,
     "end_time": "2024-04-22T01:12:22.610618",
     "exception": false,
     "start_time": "2024-04-22T01:12:22.595996",
     "status": "completed"
    },
    "tags": []
   },
   "outputs": [],
   "source": [
    "# 计算分割点\n",
    "split_point = pd.to_datetime('2020-12-23 00:00:00')\n",
    "\n",
    "# 分割数据集\n",
    "# train_data = Rawdata[Rawdata['Date'] < split_point]\n",
    "# valid_data = Rawdata[Rawdata['Date'] >= split_point]\n",
    "# train_data = train[train['Date'] >= split_point]\n",
    "train_data = train\n",
    "valid_data = valid"
   ]
  },
  {
   "cell_type": "code",
   "execution_count": 12,
   "id": "a50b3de6",
   "metadata": {
    "execution": {
     "iopub.execute_input": "2024-04-22T01:12:22.625438Z",
     "iopub.status.busy": "2024-04-22T01:12:22.625148Z",
     "iopub.status.idle": "2024-04-22T01:12:22.630402Z",
     "shell.execute_reply": "2024-04-22T01:12:22.629629Z"
    },
    "papermill": {
     "duration": 0.014892,
     "end_time": "2024-04-22T01:12:22.632354",
     "exception": false,
     "start_time": "2024-04-22T01:12:22.617462",
     "status": "completed"
    },
    "tags": []
   },
   "outputs": [
    {
     "name": "stdout",
     "output_type": "stream",
     "text": [
      "train_size: 89.6295820953792 %\n",
      "valid_size: 10.37041790462079 %\n"
     ]
    }
   ],
   "source": [
    "print('train_size:',len(train_data)/(len(train_data)+len(valid_data))*100,'%')\n",
    "print('valid_size:',len(valid_data)/(len(train_data)+len(valid_data))*100,'%')"
   ]
  },
  {
   "cell_type": "code",
   "execution_count": 13,
   "id": "c27082a8",
   "metadata": {
    "execution": {
     "iopub.execute_input": "2024-04-22T01:12:22.648291Z",
     "iopub.status.busy": "2024-04-22T01:12:22.647522Z",
     "iopub.status.idle": "2024-04-22T01:12:22.651911Z",
     "shell.execute_reply": "2024-04-22T01:12:22.651141Z"
    },
    "papermill": {
     "duration": 0.0143,
     "end_time": "2024-04-22T01:12:22.653868",
     "exception": false,
     "start_time": "2024-04-22T01:12:22.639568",
     "status": "completed"
    },
    "tags": []
   },
   "outputs": [],
   "source": [
    "features = ['Open', 'High', 'Low', 'Close', 'Volume','ExpectedDividend','SupervisionFlag','sector']"
   ]
  },
  {
   "cell_type": "code",
   "execution_count": 14,
   "id": "9ba0c4ab",
   "metadata": {
    "execution": {
     "iopub.execute_input": "2024-04-22T01:12:22.673044Z",
     "iopub.status.busy": "2024-04-22T01:12:22.672602Z",
     "iopub.status.idle": "2024-04-22T01:12:22.695441Z",
     "shell.execute_reply": "2024-04-22T01:12:22.694448Z"
    },
    "papermill": {
     "duration": 0.036071,
     "end_time": "2024-04-22T01:12:22.698103",
     "exception": false,
     "start_time": "2024-04-22T01:12:22.662032",
     "status": "completed"
    },
    "tags": []
   },
   "outputs": [],
   "source": [
    "# 训练每个行业的模型\n",
    "sectors = train['sector'].unique()\n",
    "models = {}"
   ]
  },
  {
   "cell_type": "code",
   "execution_count": 15,
   "id": "a97ac076",
   "metadata": {
    "execution": {
     "iopub.execute_input": "2024-04-22T01:12:22.716639Z",
     "iopub.status.busy": "2024-04-22T01:12:22.716302Z",
     "iopub.status.idle": "2024-04-22T01:12:22.725679Z",
     "shell.execute_reply": "2024-04-22T01:12:22.724975Z"
    },
    "papermill": {
     "duration": 0.019841,
     "end_time": "2024-04-22T01:12:22.727607",
     "exception": false,
     "start_time": "2024-04-22T01:12:22.707766",
     "status": "completed"
    },
    "tags": []
   },
   "outputs": [],
   "source": [
    "tabnet_params=dict(\n",
    "    n_d = 8, \n",
    "    n_a = 8, \n",
    "    n_steps = 3,\n",
    "    gamma = 1.3,\n",
    "    n_independent = 2, \n",
    "    n_shared = 2, \n",
    "    optimizer_fn = torch.optim.Adam,\n",
    "    optimizer_params=dict(lr=2e-2),\n",
    "    scheduler_params={\"step_size\":10, \"gamma\":0.9},\n",
    "    scheduler_fn=torch.optim.lr_scheduler.StepLR, \n",
    "    mask_type = \"entmax\",\n",
    "    cat_idxs = [6],\n",
    "    cat_dims = [2],\n",
    "    cat_emb_dim = [1],\n",
    "    lambda_sparse = 1e-3,\n",
    "    #scheduler_params = dict(T_0=200, T_mult=1, eta_min=1e-4, last_epoch=-1, verbose=False),\n",
    "    #scheduler_fn = CosineAnnealingWarmRestarts,\n",
    "    seed = 42,\n",
    "    verbose = 0, \n",
    ")"
   ]
  },
  {
   "cell_type": "code",
   "execution_count": 16,
   "id": "2fce997b",
   "metadata": {
    "execution": {
     "iopub.execute_input": "2024-04-22T01:12:22.743650Z",
     "iopub.status.busy": "2024-04-22T01:12:22.743276Z",
     "iopub.status.idle": "2024-04-22T01:12:22.793982Z",
     "shell.execute_reply": "2024-04-22T01:12:22.792974Z"
    },
    "papermill": {
     "duration": 0.061203,
     "end_time": "2024-04-22T01:12:22.796325",
     "exception": false,
     "start_time": "2024-04-22T01:12:22.735122",
     "status": "completed"
    },
    "tags": []
   },
   "outputs": [],
   "source": [
    "clf=TabNetRegressor(**tabnet_params)"
   ]
  },
  {
   "cell_type": "code",
   "execution_count": 17,
   "id": "e006dda2",
   "metadata": {
    "execution": {
     "iopub.execute_input": "2024-04-22T01:12:22.811759Z",
     "iopub.status.busy": "2024-04-22T01:12:22.811423Z",
     "iopub.status.idle": "2024-04-22T01:12:22.863753Z",
     "shell.execute_reply": "2024-04-22T01:12:22.862977Z"
    },
    "papermill": {
     "duration": 0.062469,
     "end_time": "2024-04-22T01:12:22.865939",
     "exception": false,
     "start_time": "2024-04-22T01:12:22.803470",
     "status": "completed"
    },
    "tags": []
   },
   "outputs": [],
   "source": [
    "x_train = train_data[features]\n",
    "y_train = train_data['Target']\n",
    "\n",
    "x_valid = valid_data[features]\n",
    "y_valid = valid_data['Target']"
   ]
  },
  {
   "cell_type": "code",
   "execution_count": 18,
   "id": "feccdc8d",
   "metadata": {
    "execution": {
     "iopub.execute_input": "2024-04-22T01:12:22.881360Z",
     "iopub.status.busy": "2024-04-22T01:12:22.881006Z",
     "iopub.status.idle": "2024-04-22T01:12:22.894531Z",
     "shell.execute_reply": "2024-04-22T01:12:22.893906Z"
    },
    "papermill": {
     "duration": 0.023274,
     "end_time": "2024-04-22T01:12:22.896363",
     "exception": false,
     "start_time": "2024-04-22T01:12:22.873089",
     "status": "completed"
    },
    "tags": []
   },
   "outputs": [],
   "source": [
    "from pytorch_tabnet.augmentations import RegressionSMOTE\n",
    "aug = RegressionSMOTE(p=0.2)"
   ]
  },
  {
   "cell_type": "code",
   "execution_count": 19,
   "id": "cd8cd229",
   "metadata": {
    "execution": {
     "iopub.execute_input": "2024-04-22T01:12:22.911896Z",
     "iopub.status.busy": "2024-04-22T01:12:22.911204Z",
     "iopub.status.idle": "2024-04-22T02:24:12.374044Z",
     "shell.execute_reply": "2024-04-22T02:24:12.372963Z"
    },
    "papermill": {
     "duration": 4309.472853,
     "end_time": "2024-04-22T02:24:12.376346",
     "exception": false,
     "start_time": "2024-04-22T01:12:22.903493",
     "status": "completed"
    },
    "tags": []
   },
   "outputs": [
    {
     "name": "stdout",
     "output_type": "stream",
     "text": [
      "Training model for sector 6\n",
      "\n",
      "Early stopping occurred at epoch 98 with best_epoch = 88 and best_valid_mse = 0.00023\n"
     ]
    },
    {
     "name": "stderr",
     "output_type": "stream",
     "text": [
      "/opt/conda/lib/python3.7/site-packages/pytorch_tabnet/callbacks.py:172: UserWarning: Best weights from best epoch are automatically used!\n",
      "  warnings.warn(wrn_msg)\n"
     ]
    },
    {
     "name": "stdout",
     "output_type": "stream",
     "text": [
      "Training model for sector 3\n",
      "\n",
      "Early stopping occurred at epoch 15 with best_epoch = 5 and best_valid_mse = 0.00032\n"
     ]
    },
    {
     "name": "stderr",
     "output_type": "stream",
     "text": [
      "/opt/conda/lib/python3.7/site-packages/pytorch_tabnet/callbacks.py:172: UserWarning: Best weights from best epoch are automatically used!\n",
      "  warnings.warn(wrn_msg)\n"
     ]
    },
    {
     "name": "stdout",
     "output_type": "stream",
     "text": [
      "Training model for sector 16\n",
      "\n",
      "Early stopping occurred at epoch 21 with best_epoch = 11 and best_valid_mse = 0.00202\n",
      "Training model for sector 28\n"
     ]
    },
    {
     "name": "stderr",
     "output_type": "stream",
     "text": [
      "/opt/conda/lib/python3.7/site-packages/pytorch_tabnet/callbacks.py:172: UserWarning: Best weights from best epoch are automatically used!\n",
      "  warnings.warn(wrn_msg)\n"
     ]
    },
    {
     "name": "stdout",
     "output_type": "stream",
     "text": [
      "\n",
      "Early stopping occurred at epoch 11 with best_epoch = 1 and best_valid_mse = 0.0008\n"
     ]
    },
    {
     "name": "stderr",
     "output_type": "stream",
     "text": [
      "/opt/conda/lib/python3.7/site-packages/pytorch_tabnet/callbacks.py:172: UserWarning: Best weights from best epoch are automatically used!\n",
      "  warnings.warn(wrn_msg)\n"
     ]
    },
    {
     "name": "stdout",
     "output_type": "stream",
     "text": [
      "Training model for sector 9\n",
      "\n",
      "Early stopping occurred at epoch 22 with best_epoch = 12 and best_valid_mse = 0.00102\n"
     ]
    },
    {
     "name": "stderr",
     "output_type": "stream",
     "text": [
      "/opt/conda/lib/python3.7/site-packages/pytorch_tabnet/callbacks.py:172: UserWarning: Best weights from best epoch are automatically used!\n",
      "  warnings.warn(wrn_msg)\n"
     ]
    },
    {
     "name": "stdout",
     "output_type": "stream",
     "text": [
      "Training model for sector 7\n",
      "\n",
      "Early stopping occurred at epoch 22 with best_epoch = 12 and best_valid_mse = 0.00023\n"
     ]
    },
    {
     "name": "stderr",
     "output_type": "stream",
     "text": [
      "/opt/conda/lib/python3.7/site-packages/pytorch_tabnet/callbacks.py:172: UserWarning: Best weights from best epoch are automatically used!\n",
      "  warnings.warn(wrn_msg)\n"
     ]
    },
    {
     "name": "stdout",
     "output_type": "stream",
     "text": [
      "Training model for sector 21\n",
      "\n",
      "Early stopping occurred at epoch 19 with best_epoch = 9 and best_valid_mse = 0.00099\n"
     ]
    },
    {
     "name": "stderr",
     "output_type": "stream",
     "text": [
      "/opt/conda/lib/python3.7/site-packages/pytorch_tabnet/callbacks.py:172: UserWarning: Best weights from best epoch are automatically used!\n",
      "  warnings.warn(wrn_msg)\n"
     ]
    },
    {
     "name": "stdout",
     "output_type": "stream",
     "text": [
      "Training model for sector 24\n",
      "\n",
      "Early stopping occurred at epoch 10 with best_epoch = 0 and best_valid_mse = 0.00201\n"
     ]
    },
    {
     "name": "stderr",
     "output_type": "stream",
     "text": [
      "/opt/conda/lib/python3.7/site-packages/pytorch_tabnet/callbacks.py:172: UserWarning: Best weights from best epoch are automatically used!\n",
      "  warnings.warn(wrn_msg)\n"
     ]
    },
    {
     "name": "stdout",
     "output_type": "stream",
     "text": [
      "Training model for sector 12\n",
      "\n",
      "Early stopping occurred at epoch 34 with best_epoch = 24 and best_valid_mse = 0.00029\n"
     ]
    },
    {
     "name": "stderr",
     "output_type": "stream",
     "text": [
      "/opt/conda/lib/python3.7/site-packages/pytorch_tabnet/callbacks.py:172: UserWarning: Best weights from best epoch are automatically used!\n",
      "  warnings.warn(wrn_msg)\n"
     ]
    },
    {
     "name": "stdout",
     "output_type": "stream",
     "text": [
      "Training model for sector 25\n",
      "\n",
      "Early stopping occurred at epoch 18 with best_epoch = 8 and best_valid_mse = 0.00036\n"
     ]
    },
    {
     "name": "stderr",
     "output_type": "stream",
     "text": [
      "/opt/conda/lib/python3.7/site-packages/pytorch_tabnet/callbacks.py:172: UserWarning: Best weights from best epoch are automatically used!\n",
      "  warnings.warn(wrn_msg)\n"
     ]
    },
    {
     "name": "stdout",
     "output_type": "stream",
     "text": [
      "Training model for sector 32\n",
      "\n",
      "Early stopping occurred at epoch 11 with best_epoch = 1 and best_valid_mse = 0.0004\n"
     ]
    },
    {
     "name": "stderr",
     "output_type": "stream",
     "text": [
      "/opt/conda/lib/python3.7/site-packages/pytorch_tabnet/callbacks.py:172: UserWarning: Best weights from best epoch are automatically used!\n",
      "  warnings.warn(wrn_msg)\n"
     ]
    },
    {
     "name": "stdout",
     "output_type": "stream",
     "text": [
      "Training model for sector 2\n",
      "\n",
      "Early stopping occurred at epoch 25 with best_epoch = 15 and best_valid_mse = 0.00049\n"
     ]
    },
    {
     "name": "stderr",
     "output_type": "stream",
     "text": [
      "/opt/conda/lib/python3.7/site-packages/pytorch_tabnet/callbacks.py:172: UserWarning: Best weights from best epoch are automatically used!\n",
      "  warnings.warn(wrn_msg)\n"
     ]
    },
    {
     "name": "stdout",
     "output_type": "stream",
     "text": [
      "Training model for sector 29\n",
      "\n",
      "Early stopping occurred at epoch 26 with best_epoch = 16 and best_valid_mse = 0.00041\n"
     ]
    },
    {
     "name": "stderr",
     "output_type": "stream",
     "text": [
      "/opt/conda/lib/python3.7/site-packages/pytorch_tabnet/callbacks.py:172: UserWarning: Best weights from best epoch are automatically used!\n",
      "  warnings.warn(wrn_msg)\n"
     ]
    },
    {
     "name": "stdout",
     "output_type": "stream",
     "text": [
      "Training model for sector 4\n",
      "\n",
      "Early stopping occurred at epoch 37 with best_epoch = 27 and best_valid_mse = 0.00066\n"
     ]
    },
    {
     "name": "stderr",
     "output_type": "stream",
     "text": [
      "/opt/conda/lib/python3.7/site-packages/pytorch_tabnet/callbacks.py:172: UserWarning: Best weights from best epoch are automatically used!\n",
      "  warnings.warn(wrn_msg)\n"
     ]
    },
    {
     "name": "stdout",
     "output_type": "stream",
     "text": [
      "Training model for sector 8\n",
      "\n",
      "Early stopping occurred at epoch 13 with best_epoch = 3 and best_valid_mse = 0.0011\n"
     ]
    },
    {
     "name": "stderr",
     "output_type": "stream",
     "text": [
      "/opt/conda/lib/python3.7/site-packages/pytorch_tabnet/callbacks.py:172: UserWarning: Best weights from best epoch are automatically used!\n",
      "  warnings.warn(wrn_msg)\n"
     ]
    },
    {
     "name": "stdout",
     "output_type": "stream",
     "text": [
      "Training model for sector 30\n",
      "\n",
      "Early stopping occurred at epoch 18 with best_epoch = 8 and best_valid_mse = 0.00055\n"
     ]
    },
    {
     "name": "stderr",
     "output_type": "stream",
     "text": [
      "/opt/conda/lib/python3.7/site-packages/pytorch_tabnet/callbacks.py:172: UserWarning: Best weights from best epoch are automatically used!\n",
      "  warnings.warn(wrn_msg)\n"
     ]
    },
    {
     "name": "stdout",
     "output_type": "stream",
     "text": [
      "Training model for sector 18\n",
      "\n",
      "Early stopping occurred at epoch 40 with best_epoch = 30 and best_valid_mse = 0.00051\n"
     ]
    },
    {
     "name": "stderr",
     "output_type": "stream",
     "text": [
      "/opt/conda/lib/python3.7/site-packages/pytorch_tabnet/callbacks.py:172: UserWarning: Best weights from best epoch are automatically used!\n",
      "  warnings.warn(wrn_msg)\n"
     ]
    },
    {
     "name": "stdout",
     "output_type": "stream",
     "text": [
      "Training model for sector 15\n",
      "\n",
      "Early stopping occurred at epoch 17 with best_epoch = 7 and best_valid_mse = 0.00035\n"
     ]
    },
    {
     "name": "stderr",
     "output_type": "stream",
     "text": [
      "/opt/conda/lib/python3.7/site-packages/pytorch_tabnet/callbacks.py:172: UserWarning: Best weights from best epoch are automatically used!\n",
      "  warnings.warn(wrn_msg)\n"
     ]
    },
    {
     "name": "stdout",
     "output_type": "stream",
     "text": [
      "Training model for sector 23\n",
      "\n",
      "Early stopping occurred at epoch 37 with best_epoch = 27 and best_valid_mse = 0.00037\n"
     ]
    },
    {
     "name": "stderr",
     "output_type": "stream",
     "text": [
      "/opt/conda/lib/python3.7/site-packages/pytorch_tabnet/callbacks.py:172: UserWarning: Best weights from best epoch are automatically used!\n",
      "  warnings.warn(wrn_msg)\n"
     ]
    },
    {
     "name": "stdout",
     "output_type": "stream",
     "text": [
      "Training model for sector 22\n",
      "\n",
      "Early stopping occurred at epoch 42 with best_epoch = 32 and best_valid_mse = 0.00067\n"
     ]
    },
    {
     "name": "stderr",
     "output_type": "stream",
     "text": [
      "/opt/conda/lib/python3.7/site-packages/pytorch_tabnet/callbacks.py:172: UserWarning: Best weights from best epoch are automatically used!\n",
      "  warnings.warn(wrn_msg)\n"
     ]
    },
    {
     "name": "stdout",
     "output_type": "stream",
     "text": [
      "Training model for sector 26\n",
      "\n",
      "Early stopping occurred at epoch 75 with best_epoch = 65 and best_valid_mse = 0.00038\n"
     ]
    },
    {
     "name": "stderr",
     "output_type": "stream",
     "text": [
      "/opt/conda/lib/python3.7/site-packages/pytorch_tabnet/callbacks.py:172: UserWarning: Best weights from best epoch are automatically used!\n",
      "  warnings.warn(wrn_msg)\n"
     ]
    },
    {
     "name": "stdout",
     "output_type": "stream",
     "text": [
      "Training model for sector 11\n",
      "\n",
      "Early stopping occurred at epoch 33 with best_epoch = 23 and best_valid_mse = 0.00059\n"
     ]
    },
    {
     "name": "stderr",
     "output_type": "stream",
     "text": [
      "/opt/conda/lib/python3.7/site-packages/pytorch_tabnet/callbacks.py:172: UserWarning: Best weights from best epoch are automatically used!\n",
      "  warnings.warn(wrn_msg)\n"
     ]
    },
    {
     "name": "stdout",
     "output_type": "stream",
     "text": [
      "Training model for sector 13\n",
      "\n",
      "Early stopping occurred at epoch 25 with best_epoch = 15 and best_valid_mse = 0.00051\n"
     ]
    },
    {
     "name": "stderr",
     "output_type": "stream",
     "text": [
      "/opt/conda/lib/python3.7/site-packages/pytorch_tabnet/callbacks.py:172: UserWarning: Best weights from best epoch are automatically used!\n",
      "  warnings.warn(wrn_msg)\n"
     ]
    },
    {
     "name": "stdout",
     "output_type": "stream",
     "text": [
      "Training model for sector 17\n",
      "\n",
      "Early stopping occurred at epoch 50 with best_epoch = 40 and best_valid_mse = 0.00068\n"
     ]
    },
    {
     "name": "stderr",
     "output_type": "stream",
     "text": [
      "/opt/conda/lib/python3.7/site-packages/pytorch_tabnet/callbacks.py:172: UserWarning: Best weights from best epoch are automatically used!\n",
      "  warnings.warn(wrn_msg)\n"
     ]
    },
    {
     "name": "stdout",
     "output_type": "stream",
     "text": [
      "Training model for sector 27\n",
      "\n",
      "Early stopping occurred at epoch 27 with best_epoch = 17 and best_valid_mse = 0.00053\n"
     ]
    },
    {
     "name": "stderr",
     "output_type": "stream",
     "text": [
      "/opt/conda/lib/python3.7/site-packages/pytorch_tabnet/callbacks.py:172: UserWarning: Best weights from best epoch are automatically used!\n",
      "  warnings.warn(wrn_msg)\n"
     ]
    },
    {
     "name": "stdout",
     "output_type": "stream",
     "text": [
      "Training model for sector 10\n",
      "\n",
      "Early stopping occurred at epoch 43 with best_epoch = 33 and best_valid_mse = 0.00046\n"
     ]
    },
    {
     "name": "stderr",
     "output_type": "stream",
     "text": [
      "/opt/conda/lib/python3.7/site-packages/pytorch_tabnet/callbacks.py:172: UserWarning: Best weights from best epoch are automatically used!\n",
      "  warnings.warn(wrn_msg)\n"
     ]
    },
    {
     "name": "stdout",
     "output_type": "stream",
     "text": [
      "Training model for sector 19\n",
      "\n",
      "Early stopping occurred at epoch 48 with best_epoch = 38 and best_valid_mse = 0.00042\n"
     ]
    },
    {
     "name": "stderr",
     "output_type": "stream",
     "text": [
      "/opt/conda/lib/python3.7/site-packages/pytorch_tabnet/callbacks.py:172: UserWarning: Best weights from best epoch are automatically used!\n",
      "  warnings.warn(wrn_msg)\n"
     ]
    },
    {
     "name": "stdout",
     "output_type": "stream",
     "text": [
      "Training model for sector 1\n",
      "\n",
      "Early stopping occurred at epoch 22 with best_epoch = 12 and best_valid_mse = 0.0003\n"
     ]
    },
    {
     "name": "stderr",
     "output_type": "stream",
     "text": [
      "/opt/conda/lib/python3.7/site-packages/pytorch_tabnet/callbacks.py:172: UserWarning: Best weights from best epoch are automatically used!\n",
      "  warnings.warn(wrn_msg)\n"
     ]
    },
    {
     "name": "stdout",
     "output_type": "stream",
     "text": [
      "Training model for sector 20\n",
      "\n",
      "Early stopping occurred at epoch 25 with best_epoch = 15 and best_valid_mse = 0.0005\n"
     ]
    },
    {
     "name": "stderr",
     "output_type": "stream",
     "text": [
      "/opt/conda/lib/python3.7/site-packages/pytorch_tabnet/callbacks.py:172: UserWarning: Best weights from best epoch are automatically used!\n",
      "  warnings.warn(wrn_msg)\n"
     ]
    },
    {
     "name": "stdout",
     "output_type": "stream",
     "text": [
      "Training model for sector 31\n",
      "\n",
      "Early stopping occurred at epoch 38 with best_epoch = 28 and best_valid_mse = 0.0004\n"
     ]
    },
    {
     "name": "stderr",
     "output_type": "stream",
     "text": [
      "/opt/conda/lib/python3.7/site-packages/pytorch_tabnet/callbacks.py:172: UserWarning: Best weights from best epoch are automatically used!\n",
      "  warnings.warn(wrn_msg)\n"
     ]
    },
    {
     "name": "stdout",
     "output_type": "stream",
     "text": [
      "Training model for sector 14\n",
      "\n",
      "Early stopping occurred at epoch 83 with best_epoch = 73 and best_valid_mse = 0.00135\n",
      "Training model for sector 0\n"
     ]
    },
    {
     "name": "stderr",
     "output_type": "stream",
     "text": [
      "/opt/conda/lib/python3.7/site-packages/pytorch_tabnet/callbacks.py:172: UserWarning: Best weights from best epoch are automatically used!\n",
      "  warnings.warn(wrn_msg)\n"
     ]
    },
    {
     "name": "stdout",
     "output_type": "stream",
     "text": [
      "\n",
      "Early stopping occurred at epoch 42 with best_epoch = 32 and best_valid_mse = 0.00052\n",
      "Training model for sector 5\n"
     ]
    },
    {
     "name": "stderr",
     "output_type": "stream",
     "text": [
      "/opt/conda/lib/python3.7/site-packages/pytorch_tabnet/callbacks.py:172: UserWarning: Best weights from best epoch are automatically used!\n",
      "  warnings.warn(wrn_msg)\n"
     ]
    },
    {
     "name": "stdout",
     "output_type": "stream",
     "text": [
      "\n",
      "Early stopping occurred at epoch 14 with best_epoch = 4 and best_valid_mse = 0.00121\n"
     ]
    },
    {
     "name": "stderr",
     "output_type": "stream",
     "text": [
      "/opt/conda/lib/python3.7/site-packages/pytorch_tabnet/callbacks.py:172: UserWarning: Best weights from best epoch are automatically used!\n",
      "  warnings.warn(wrn_msg)\n"
     ]
    }
   ],
   "source": [
    "for sector in sectors:\n",
    "    print(f\"Training model for sector {sector}\")\n",
    "    # 数据划分\n",
    "    train_indices = x_train['sector'] == sector\n",
    "    valid_indices = x_valid['sector'] == sector\n",
    "\n",
    "    x_train_sector = x_train[train_indices].drop(columns=['sector'])\n",
    "    y_train_sector = y_train[train_indices]\n",
    "    x_valid_sector = x_valid[valid_indices].drop(columns=['sector'])\n",
    "    y_valid_sector = y_valid[valid_indices]\n",
    "\n",
    "    # 初始化 TabNet 模型\n",
    "    model = TabNetRegressor(**tabnet_params)\n",
    "\n",
    "    # 训练模型\n",
    "    model.fit(\n",
    "        X_train=x_train_sector.values, y_train=y_train_sector.values.reshape(-1, 1),\n",
    "        eval_set=[(x_train_sector.values, y_train_sector.values.reshape(-1, 1)), (x_valid_sector.values, y_valid_sector.values.reshape(-1, 1))],\n",
    "        eval_name=['train','valid'], eval_metric=['mae', 'rmse', 'mse'],\n",
    "        max_epochs=100, patience=10,\n",
    "        batch_size=1024, virtual_batch_size=128,\n",
    "        num_workers=4,drop_last=False,\n",
    "        augmentations=aug, #aug\n",
    "    )\n",
    "\n",
    "    # 保存模型\n",
    "    models[sector] = model"
   ]
  },
  {
   "cell_type": "code",
   "execution_count": 20,
   "id": "3d81f22c",
   "metadata": {
    "execution": {
     "iopub.execute_input": "2024-04-22T02:24:12.407663Z",
     "iopub.status.busy": "2024-04-22T02:24:12.407225Z",
     "iopub.status.idle": "2024-04-22T02:24:12.444023Z",
     "shell.execute_reply": "2024-04-22T02:24:12.443276Z"
    },
    "papermill": {
     "duration": 0.055516,
     "end_time": "2024-04-22T02:24:12.446294",
     "exception": false,
     "start_time": "2024-04-22T02:24:12.390778",
     "status": "completed"
    },
    "tags": []
   },
   "outputs": [],
   "source": [
    "import jpx_tokyo_market_prediction\n",
    "env = jpx_tokyo_market_prediction.make_env()   # initialize the environment\n",
    "iter_test = env.iter_test()    # an iterator which loops over the test files"
   ]
  },
  {
   "cell_type": "code",
   "execution_count": 21,
   "id": "0308627b",
   "metadata": {
    "execution": {
     "iopub.execute_input": "2024-04-22T02:24:12.479096Z",
     "iopub.status.busy": "2024-04-22T02:24:12.478598Z",
     "iopub.status.idle": "2024-04-22T02:25:24.000874Z",
     "shell.execute_reply": "2024-04-22T02:25:24.000065Z"
    },
    "papermill": {
     "duration": 71.541519,
     "end_time": "2024-04-22T02:25:24.003514",
     "exception": false,
     "start_time": "2024-04-22T02:24:12.461995",
     "status": "completed"
    },
    "tags": []
   },
   "outputs": [
    {
     "name": "stdout",
     "output_type": "stream",
     "text": [
      "This version of the API is not optimized and should not be used to estimate the runtime of your code on the hidden test set.\n"
     ]
    }
   ],
   "source": [
    "for (prices, options, financials, trades, secondary_prices, sample_prediction) in iter_test:  \n",
    "    prices.sort_values(by=['SecuritiesCode', 'Date'], inplace=True)\n",
    "    prices.drop(\"RowId\", axis=1, inplace=True)\n",
    "    prices.reset_index(drop=True, inplace=True)\n",
    "    prices.replace('－', np.nan, inplace=True)\n",
    "    cols = ['Open', 'High', 'Low', 'Close','Volume']\n",
    "    for col in cols:\n",
    "        prices[col] = prices[col].fillna(0)\n",
    "        prices[col] = prices.groupby('SecuritiesCode')[col].transform(lambda x: stand.fit_transform(x.values.reshape(-1, 1)).flatten())\n",
    "    prices['AdjustmentFactor'] = prices['AdjustmentFactor'].fillna(1)\n",
    "    prices['ExpectedDividend'] = prices['ExpectedDividend'].fillna(0)\n",
    "    prices['SupervisionFlag'] = prices['SupervisionFlag'].fillna(False)\n",
    "    \n",
    "    prices['SecuritiesCode'] = prices['SecuritiesCode'].astype('int')\n",
    "    prices['SupervisionFlag'] = prices['SupervisionFlag'].astype('int')\n",
    "    prices.loc[: ,\"Date\"] = pd.to_datetime(prices.loc[: ,\"Date\"], format=\"%Y-%m-%d\")\n",
    "    \n",
    "    prices = prices.groupby(\"SecuritiesCode\").apply(adjust_prices)\n",
    "    \n",
    "    stock_list = pd.read_csv(os.path.join('/kaggle/input/jpx-tokyo-stock-exchange-prediction/', \"stock_list.csv\"))\n",
    "    target_stock_list = stock_list[stock_list[\"Universe0\"]]\n",
    "    sec_info = target_stock_list[[\"SecuritiesCode\", \"33SectorName\"]]\n",
    "    prices = pd.merge(prices, sec_info, on=\"SecuritiesCode\")\n",
    "    prices[\"33SectorName\"] = prices[\"33SectorName\"].astype(\"category\")\n",
    "    prices.loc[:, 'sector'] = le.fit_transform(prices['33SectorName'])\n",
    "    \n",
    "    for row in prices.itertuples():\n",
    "        sector = getattr(row, 'sector')\n",
    "        feature = np.array([getattr(row, 'Open'), getattr(row, 'High'), getattr(row, 'Low'), getattr(row, 'Close'), getattr(row, 'Volume'), getattr(row, 'ExpectedDividend'), getattr(row, 'SupervisionFlag')]).reshape(1,-1)\n",
    "        pred = models[sector].predict(feature)\n",
    "        prices.at[row.Index, 'Target'] = pred\n",
    "\n",
    "\n",
    "    # sort in descending order by Target\n",
    "    prices = prices.sort_values(by = \"Target\", ascending = False)\n",
    "    # add Rank\n",
    "    prices['Rank'] = np.arange(len(prices.index))\n",
    "    prices = prices.sort_values(by = \"SecuritiesCode\", ascending = True)\n",
    "    prices.drop([\"Target\"], axis = 1)\n",
    "    submission = prices[[\"Date\", \"SecuritiesCode\", \"Rank\"]]\n",
    "    # register your predictions\n",
    "    env.predict(submission)\n",
    "for (prices, options, financials, trades, secondary_prices, sample_prediction) in iter_test:  \n",
    "    prices.sort_values(by=['SecuritiesCode', 'Date'], inplace=True)\n",
    "    prices.drop(\"RowId\", axis=1, inplace=True)\n",
    "    prices.reset_index(drop=True, inplace=True)\n",
    "    prices.replace('－', np.nan, inplace=True)\n",
    "    cols = ['Open', 'High', 'Low', 'Close','Volume']\n",
    "    for col in cols:\n",
    "        prices[col] = prices[col].fillna(0)\n",
    "        prices[col] = prices.groupby('SecuritiesCode')[col].transform(lambda x: stand.fit_transform(x.values.reshape(-1, 1)).flatten())\n",
    "    prices['AdjustmentFactor'] = prices['AdjustmentFactor'].fillna(1)\n",
    "    prices['ExpectedDividend'] = prices['ExpectedDividend'].fillna(0)\n",
    "    prices['SupervisionFlag'] = prices['SupervisionFlag'].fillna(False)\n",
    "    \n",
    "    prices['SecuritiesCode'] = prices['SecuritiesCode'].astype('int')\n",
    "    prices['SupervisionFlag'] = prices['SupervisionFlag'].astype('int')\n",
    "    prices.loc[: ,\"Date\"] = pd.to_datetime(prices.loc[: ,\"Date\"], format=\"%Y-%m-%d\")\n",
    "    \n",
    "    prices = prices.groupby(\"SecuritiesCode\").apply(adjust_prices)\n",
    "    \n",
    "    stock_list = pd.read_csv(os.path.join('/kaggle/input/jpx-tokyo-stock-exchange-prediction/', \"stock_list.csv\"))\n",
    "    target_stock_list = stock_list[stock_list[\"Universe0\"]]\n",
    "    sec_info = target_stock_list[[\"SecuritiesCode\", \"33SectorName\"]]\n",
    "    prices = pd.merge(prices, sec_info, on=\"SecuritiesCode\")\n",
    "    prices[\"33SectorName\"] = prices[\"33SectorName\"].astype(\"category\")\n",
    "    prices.loc[:, 'sector'] = le.fit_transform(prices['33SectorName'])\n",
    "    \n",
    "    for row in prices.itertuples():\n",
    "        sector = getattr(row, 'sector')\n",
    "        features = np.array([getattr(row, 'Open'), getattr(row, 'High'), getattr(row, 'Low'), getattr(row, 'Close'), getattr(row, 'Volume'), getattr(row, 'ExpectedDividend'), getattr(row, 'SupervisionFlag')]).reshape(1, -1)\n",
    "        pred = models[sector].predict(features)\n",
    "        prices.at[row.Index, 'Target'] = pred\n",
    "    \n",
    "    # sort in descending order by Target\n",
    "    prices = prices.sort_values(by = \"Target\", ascending = False)\n",
    "    # add Rank\n",
    "    prices['Rank'] = np.arange(len(prices.index))\n",
    "    prices = prices.sort_values(by = \"SecuritiesCode\", ascending = True)\n",
    "    prices.drop([\"Target\"], axis = 1)\n",
    "    submission = prices[[\"Date\", \"SecuritiesCode\", \"Rank\"]]\n",
    "    # register your predictions\n",
    "    env.predict(submission)"
   ]
  },
  {
   "cell_type": "code",
   "execution_count": null,
   "id": "2e0224fc",
   "metadata": {
    "papermill": {
     "duration": 0.015083,
     "end_time": "2024-04-22T02:25:24.035080",
     "exception": false,
     "start_time": "2024-04-22T02:25:24.019997",
     "status": "completed"
    },
    "tags": []
   },
   "outputs": [],
   "source": []
  }
 ],
 "metadata": {
  "kaggle": {
   "accelerator": "gpu",
   "dataSources": [
    {
     "databundleVersionId": 3935619,
     "sourceId": 34349,
     "sourceType": "competition"
    },
    {
     "datasetId": 921302,
     "sourceId": 7453542,
     "sourceType": "datasetVersion"
    }
   ],
   "dockerImageVersionId": 30198,
   "isGpuEnabled": true,
   "isInternetEnabled": false,
   "language": "python",
   "sourceType": "notebook"
  },
  "kernelspec": {
   "display_name": "Python 3",
   "language": "python",
   "name": "python3"
  },
  "language_info": {
   "codemirror_mode": {
    "name": "ipython",
    "version": 3
   },
   "file_extension": ".py",
   "mimetype": "text/x-python",
   "name": "python",
   "nbconvert_exporter": "python",
   "pygments_lexer": "ipython3",
   "version": "3.7.12"
  },
  "papermill": {
   "default_parameters": {},
   "duration": 4511.265723,
   "end_time": "2024-04-22T02:25:26.305193",
   "environment_variables": {},
   "exception": null,
   "input_path": "__notebook__.ipynb",
   "output_path": "__notebook__.ipynb",
   "parameters": {},
   "start_time": "2024-04-22T01:10:15.039470",
   "version": "2.3.4"
  }
 },
 "nbformat": 4,
 "nbformat_minor": 5
}
