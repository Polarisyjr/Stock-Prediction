{
 "cells": [
  {
   "cell_type": "code",
   "execution_count": 1,
   "id": "8d0ad939",
   "metadata": {
    "execution": {
     "iopub.execute_input": "2024-04-19T06:03:02.573547Z",
     "iopub.status.busy": "2024-04-19T06:03:02.573182Z",
     "iopub.status.idle": "2024-04-19T06:03:02.614728Z",
     "shell.execute_reply": "2024-04-19T06:03:02.613673Z"
    },
    "papermill": {
     "duration": 0.04791,
     "end_time": "2024-04-19T06:03:02.617157",
     "exception": false,
     "start_time": "2024-04-19T06:03:02.569247",
     "status": "completed"
    },
    "tags": []
   },
   "outputs": [
    {
     "name": "stdout",
     "output_type": "stream",
     "text": [
      "/kaggle/input/jpx-tokyo-stock-exchange-prediction/stock_list.csv\n",
      "/kaggle/input/jpx-tokyo-stock-exchange-prediction/example_test_files/sample_submission.csv\n",
      "/kaggle/input/jpx-tokyo-stock-exchange-prediction/example_test_files/options.csv\n",
      "/kaggle/input/jpx-tokyo-stock-exchange-prediction/example_test_files/financials.csv\n",
      "/kaggle/input/jpx-tokyo-stock-exchange-prediction/example_test_files/secondary_stock_prices.csv\n",
      "/kaggle/input/jpx-tokyo-stock-exchange-prediction/example_test_files/trades.csv\n",
      "/kaggle/input/jpx-tokyo-stock-exchange-prediction/example_test_files/stock_prices.csv\n",
      "/kaggle/input/jpx-tokyo-stock-exchange-prediction/jpx_tokyo_market_prediction/competition.cpython-37m-x86_64-linux-gnu.so\n",
      "/kaggle/input/jpx-tokyo-stock-exchange-prediction/jpx_tokyo_market_prediction/__init__.py\n",
      "/kaggle/input/jpx-tokyo-stock-exchange-prediction/data_specifications/stock_fin_spec.csv\n",
      "/kaggle/input/jpx-tokyo-stock-exchange-prediction/data_specifications/trades_spec.csv\n",
      "/kaggle/input/jpx-tokyo-stock-exchange-prediction/data_specifications/stock_price_spec.csv\n",
      "/kaggle/input/jpx-tokyo-stock-exchange-prediction/data_specifications/options_spec.csv\n",
      "/kaggle/input/jpx-tokyo-stock-exchange-prediction/data_specifications/stock_list_spec.csv\n",
      "/kaggle/input/jpx-tokyo-stock-exchange-prediction/train_files/options.csv\n",
      "/kaggle/input/jpx-tokyo-stock-exchange-prediction/train_files/financials.csv\n",
      "/kaggle/input/jpx-tokyo-stock-exchange-prediction/train_files/secondary_stock_prices.csv\n",
      "/kaggle/input/jpx-tokyo-stock-exchange-prediction/train_files/trades.csv\n",
      "/kaggle/input/jpx-tokyo-stock-exchange-prediction/train_files/stock_prices.csv\n",
      "/kaggle/input/jpx-tokyo-stock-exchange-prediction/supplemental_files/options.csv\n",
      "/kaggle/input/jpx-tokyo-stock-exchange-prediction/supplemental_files/financials.csv\n",
      "/kaggle/input/jpx-tokyo-stock-exchange-prediction/supplemental_files/secondary_stock_prices.csv\n",
      "/kaggle/input/jpx-tokyo-stock-exchange-prediction/supplemental_files/trades.csv\n",
      "/kaggle/input/jpx-tokyo-stock-exchange-prediction/supplemental_files/stock_prices.csv\n"
     ]
    }
   ],
   "source": [
    "# This Python 3 environment comes with many helpful analytics libraries installed\n",
    "# It is defined by the kaggle/python Docker image: https://github.com/kaggle/docker-python\n",
    "# For example, here's several helpful packages to load\n",
    "\n",
    "import numpy as np # linear algebra\n",
    "import pandas as pd # data processing, CSV file I/O (e.g. pd.read_csv)\n",
    "\n",
    "# Input data files are available in the read-only \"../input/\" directory\n",
    "# For example, running this (by clicking run or pressing Shift+Enter) will list all files under the input directory\n",
    "import os\n",
    "for dirname, _, filenames in os.walk('/kaggle/input'):\n",
    "    for filename in filenames:\n",
    "        print(os.path.join(dirname, filename))\n",
    "\n",
    "# You can write up to 20GB to the current directory (/kaggle/working/) that gets preserved as output when you create a version using \"Save & Run All\" \n",
    "# You can also write temporary files to /kaggle/temp/, but they won't be saved outside of the current session"
   ]
  },
  {
   "cell_type": "code",
   "execution_count": 2,
   "id": "59a7256c",
   "metadata": {
    "execution": {
     "iopub.execute_input": "2024-04-19T06:03:02.622875Z",
     "iopub.status.busy": "2024-04-19T06:03:02.622317Z",
     "iopub.status.idle": "2024-04-19T15:32:08.355688Z",
     "shell.execute_reply": "2024-04-19T15:32:08.354525Z"
    },
    "papermill": {
     "duration": 34145.74027,
     "end_time": "2024-04-19T15:32:08.359521",
     "exception": false,
     "start_time": "2024-04-19T06:03:02.619251",
     "status": "completed"
    },
    "tags": []
   },
   "outputs": [
    {
     "name": "stdout",
     "output_type": "stream",
     "text": [
      "Epoch 1, Average Loss: 0.0006\n",
      "Epoch 2, Average Loss: 0.0005\n",
      "Epoch 3, Average Loss: 0.0005\n",
      "Epoch 4, Average Loss: 0.0005\n",
      "Epoch 5, Average Loss: 0.0005\n",
      "Epoch 6, Average Loss: 0.0005\n",
      "Epoch 7, Average Loss: 0.0005\n",
      "Epoch 8, Average Loss: 0.0005\n",
      "Epoch 9, Average Loss: 0.0005\n",
      "Epoch 10, Average Loss: 0.0005\n",
      "Finished Training\n"
     ]
    }
   ],
   "source": [
    "import torch\n",
    "import torch.nn as nn\n",
    "import pandas as pd\n",
    "import numpy as np\n",
    "from sklearn.preprocessing import LabelEncoder\n",
    "from torch.utils.data import DataLoader, Dataset\n",
    "\n",
    "# Define a custom dataset for handling stock data\n",
    "class StockDataset(Dataset):\n",
    "    def __init__(self, features, targets):\n",
    "        self.features = features\n",
    "        self.targets = targets\n",
    "\n",
    "    def __len__(self):\n",
    "        return len(self.targets)\n",
    "\n",
    "    def __getitem__(self, idx):\n",
    "        return self.features[idx], self.targets[idx]\n",
    "\n",
    "# Define the transformer model\n",
    "class StockTransformer(nn.Module):\n",
    "    def __init__(self, input_feature_size, d_model, num_layers, heads, dropout_rate=0.1):\n",
    "        super(StockTransformer, self).__init__()\n",
    "        self.d_model = d_model\n",
    "        self.transformer = nn.Transformer(d_model=self.d_model, nhead=heads, \n",
    "                                          num_encoder_layers=num_layers, \n",
    "                                          num_decoder_layers=num_layers, \n",
    "                                          dropout=dropout_rate)\n",
    "        self.fc_out = nn.Linear(self.d_model, 1)\n",
    "        # Project input features to d_model size\n",
    "        self.input_projection = nn.Linear(input_feature_size, self.d_model)\n",
    "\n",
    "    def forward(self, src):\n",
    "        # Ensure src is projected to d_model size\n",
    "        src = self.input_projection(src)\n",
    "        # For the transformer, src and tgt need to be the same in this context\n",
    "        out = self.transformer(src, src)\n",
    "        return self.fc_out(out)\n",
    "\n",
    "# Handling data more robustly\n",
    "def process_data(data):\n",
    "    data = data.fillna(method='ffill').fillna(method='bfill').fillna(0)\n",
    "    le = LabelEncoder()\n",
    "    for col in data.columns:\n",
    "        if data[col].dtype == np.object_ or data[col].dtype == 'category':\n",
    "            data[col] = le.fit_transform(data[col].astype(str))\n",
    "        data[col] = data[col].astype(float)\n",
    "    return data\n",
    "\n",
    "data = pd.read_csv('/kaggle/input/jpx-tokyo-stock-exchange-prediction/train_files/stock_prices.csv')\n",
    "data = process_data(data)\n",
    "features = torch.tensor(data.drop('Target', axis=1).values, dtype=torch.float32)\n",
    "targets = torch.tensor(data['Target'].values, dtype=torch.float32).unsqueeze(1)\n",
    "\n",
    "# Creating datasets\n",
    "dataset = StockDataset(features, targets)\n",
    "dataloader = DataLoader(dataset, batch_size=32, shuffle=True)\n",
    "\n",
    "# Adjust feature size and number of heads\n",
    "input_feature_size = features.shape[1]\n",
    "d_model = 16  # Adjust this to be a multiple of the number of heads (e.g., 8 heads)\n",
    "heads = 8\n",
    "\n",
    "# Model training\n",
    "model = StockTransformer(input_feature_size=input_feature_size, d_model=d_model, num_layers=6, heads=heads, dropout_rate=0.1)\n",
    "criterion = nn.MSELoss()\n",
    "optimizer = torch.optim.Adam(model.parameters(), lr=0.001)\n",
    "\n",
    "num_epochs = 10  # Specify the number of epochs\n",
    "\n",
    "for epoch in range(num_epochs):  # loop over the dataset multiple times\n",
    "    running_loss = 0.0\n",
    "    for i, data in enumerate(dataloader):\n",
    "        inputs, labels = data\n",
    "        optimizer.zero_grad()\n",
    "        outputs = model(inputs)\n",
    "        loss = criterion(outputs, labels)\n",
    "        loss.backward()\n",
    "        optimizer.step()\n",
    "\n",
    "        # Accumulate the loss\n",
    "        running_loss += loss.item()\n",
    "\n",
    "    # Compute the average loss for the epoch\n",
    "    avg_loss = running_loss / len(dataloader)\n",
    "    print(f'Epoch {epoch + 1}, Average Loss: {avg_loss:.4f}')\n",
    "\n",
    "print('Finished Training')"
   ]
  }
 ],
 "metadata": {
  "kaggle": {
   "accelerator": "gpu",
   "dataSources": [
    {
     "databundleVersionId": 3935619,
     "sourceId": 34349,
     "sourceType": "competition"
    }
   ],
   "dockerImageVersionId": 30350,
   "isGpuEnabled": true,
   "isInternetEnabled": false,
   "language": "python",
   "sourceType": "notebook"
  },
  "kernelspec": {
   "display_name": "Python 3",
   "language": "python",
   "name": "python3"
  },
  "language_info": {
   "codemirror_mode": {
    "name": "ipython",
    "version": 3
   },
   "file_extension": ".py",
   "mimetype": "text/x-python",
   "name": "python",
   "nbconvert_exporter": "python",
   "pygments_lexer": "ipython3",
   "version": "3.7.12"
  },
  "papermill": {
   "default_parameters": {},
   "duration": 34156.250115,
   "end_time": "2024-04-19T15:32:09.455624",
   "environment_variables": {},
   "exception": null,
   "input_path": "__notebook__.ipynb",
   "output_path": "__notebook__.ipynb",
   "parameters": {},
   "start_time": "2024-04-19T06:02:53.205509",
   "version": "2.3.4"
  }
 },
 "nbformat": 4,
 "nbformat_minor": 5
}
